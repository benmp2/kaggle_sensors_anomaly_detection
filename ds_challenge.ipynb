{
 "cells": [
  {
   "cell_type": "markdown",
   "metadata": {},
   "source": [
    "# Description from kaggle:"
   ]
  },
  {
   "cell_type": "markdown",
   "metadata": {},
   "source": [
    "**Problem:**\n",
    "\n",
    "<i>\"I have a friend who working in a small team that taking care of water pump of a small area far from big town, there are 7 system failure in last year. Those failure cause huge problem to many people and also lead to some serious living problem of some family. The team can't see any pattern in the data when the system goes down, so they are not sure where to put more attention.\n",
    "\n",
    "Since I believe in using data to solve problem, I ask him to provide available sensor data and hope that someone here can help.\"</i>\n",
    "\n",
    "**Data:**\n",
    "\n",
    "The data are from all available sensor, all of them are raw value. Total sensor are 52 unit.\n"
   ]
  },
  {
   "cell_type": "markdown",
   "metadata": {},
   "source": [
    "# Imports:"
   ]
  },
  {
   "cell_type": "code",
   "execution_count": 40,
   "metadata": {
    "execution": {
     "iopub.execute_input": "2021-04-02T20:09:25.420533Z",
     "iopub.status.busy": "2021-04-02T20:09:25.420198Z",
     "iopub.status.idle": "2021-04-02T20:09:25.429509Z",
     "shell.execute_reply": "2021-04-02T20:09:25.428349Z",
     "shell.execute_reply.started": "2021-04-02T20:09:25.420495Z"
    }
   },
   "outputs": [],
   "source": [
    "import datetime\n",
    "import pandas as pd\n",
    "import numpy as np\n",
    "\n",
    "import matplotlib.pyplot as plt\n",
    "import seaborn as sns\n",
    "from sklearn.preprocessing import StandardScaler,MinMaxScaler,LabelEncoder,power_transform\n",
    "from hmmlearn import hmm\n",
    "\n",
    "# %matplotlib notebook\n",
    "%matplotlib widget"
   ]
  },
  {
   "cell_type": "markdown",
   "metadata": {},
   "source": [
    "# Load data:"
   ]
  },
  {
   "cell_type": "code",
   "execution_count": 6,
   "metadata": {
    "execution": {
     "iopub.execute_input": "2021-04-02T19:54:14.733961Z",
     "iopub.status.busy": "2021-04-02T19:54:14.733566Z",
     "iopub.status.idle": "2021-04-02T19:54:14.739925Z",
     "shell.execute_reply": "2021-04-02T19:54:14.738914Z",
     "shell.execute_reply.started": "2021-04-02T19:54:14.733919Z"
    }
   },
   "outputs": [
    {
     "name": "stdout",
     "output_type": "stream",
     "text": [
      ",timestamp,sensor_00,sensor_01,sensor_02,sensor_03,sensor_04,sensor_05,sensor_06,sensor_07,sensor_08,sensor_09,sensor_10,sensor_11,sensor_12,sensor_13,sensor_14,sensor_15,sensor_16,sensor_17,sensor_18,sensor_19,sensor_20,sensor_21,sensor_22,sensor_23,sensor_24,sensor_25,sensor_26,sensor_27,sensor_28,sensor_29,sensor_30,sensor_31,sensor_32,sensor_33,sensor_34,sensor_35,sensor_36,sensor_37,sensor_38,sensor_39,sensor_40,sensor_41,sensor_42,sensor_43,sensor_44,sensor_45,sensor_46,sensor_47,sensor_48,sensor_49,sensor_50,sensor_51,machine_status\n",
      "\n",
      "0,2018-04-01 00:00:00,2.465394,47.092009999999995,53.2118,46.310759999999995,634.375,76.45975,13.41146,16.13136,15.567129999999999,15.053529999999999,37.2274,47.52422,31.11716,1.6813529999999999,419.5747,,461.8781,466.3284,2.565284,665.3993,398.9862,880.0001,498.8926,975.9409,627.674,741.7151,848.0708,429.0377,785.1935,684.9443,594.4445,682.8125,680.4416,433.7037,171.9375,341.9039,195.0655,90.32386,40.36458,31.51042,70.57291,30.98958,31.770832061767603,41.92708,39.6412,65.68287,50.92593,38.19444,157.9861,67.70834,243.0556,201.3889,NORMAL\n",
      "\n"
     ]
    }
   ],
   "source": [
    "#the first few lines of the csv:\n",
    "with open('sensor.csv','r') as f:\n",
    "    for i,line in enumerate(f):\n",
    "        if i == 2: break\n",
    "        print(line)\n",
    "    "
   ]
  },
  {
   "cell_type": "code",
   "execution_count": 7,
   "metadata": {
    "execution": {
     "iopub.execute_input": "2021-04-02T19:54:18.566572Z",
     "iopub.status.busy": "2021-04-02T19:54:18.566163Z",
     "iopub.status.idle": "2021-04-02T19:54:26.484501Z",
     "shell.execute_reply": "2021-04-02T19:54:26.483528Z",
     "shell.execute_reply.started": "2021-04-02T19:54:18.566528Z"
    }
   },
   "outputs": [
    {
     "name": "stdout",
     "output_type": "stream",
     "text": [
      "df.shape (220320, 53)\n"
     ]
    },
    {
     "data": {
      "text/html": [
       "<div>\n",
       "<style scoped>\n",
       "    .dataframe tbody tr th:only-of-type {\n",
       "        vertical-align: middle;\n",
       "    }\n",
       "\n",
       "    .dataframe tbody tr th {\n",
       "        vertical-align: top;\n",
       "    }\n",
       "\n",
       "    .dataframe thead th {\n",
       "        text-align: right;\n",
       "    }\n",
       "</style>\n",
       "<table border=\"1\" class=\"dataframe\">\n",
       "  <thead>\n",
       "    <tr style=\"text-align: right;\">\n",
       "      <th></th>\n",
       "      <th>sensor_00</th>\n",
       "      <th>sensor_01</th>\n",
       "      <th>sensor_02</th>\n",
       "      <th>sensor_03</th>\n",
       "      <th>sensor_04</th>\n",
       "      <th>sensor_05</th>\n",
       "      <th>sensor_06</th>\n",
       "      <th>sensor_07</th>\n",
       "      <th>sensor_08</th>\n",
       "      <th>sensor_09</th>\n",
       "      <th>...</th>\n",
       "      <th>sensor_43</th>\n",
       "      <th>sensor_44</th>\n",
       "      <th>sensor_45</th>\n",
       "      <th>sensor_46</th>\n",
       "      <th>sensor_47</th>\n",
       "      <th>sensor_48</th>\n",
       "      <th>sensor_49</th>\n",
       "      <th>sensor_50</th>\n",
       "      <th>sensor_51</th>\n",
       "      <th>machine_status</th>\n",
       "    </tr>\n",
       "    <tr>\n",
       "      <th>timestamp</th>\n",
       "      <th></th>\n",
       "      <th></th>\n",
       "      <th></th>\n",
       "      <th></th>\n",
       "      <th></th>\n",
       "      <th></th>\n",
       "      <th></th>\n",
       "      <th></th>\n",
       "      <th></th>\n",
       "      <th></th>\n",
       "      <th></th>\n",
       "      <th></th>\n",
       "      <th></th>\n",
       "      <th></th>\n",
       "      <th></th>\n",
       "      <th></th>\n",
       "      <th></th>\n",
       "      <th></th>\n",
       "      <th></th>\n",
       "      <th></th>\n",
       "      <th></th>\n",
       "    </tr>\n",
       "  </thead>\n",
       "  <tbody>\n",
       "    <tr>\n",
       "      <th>2018-04-01 00:00:00</th>\n",
       "      <td>2.465394</td>\n",
       "      <td>47.09201</td>\n",
       "      <td>53.2118</td>\n",
       "      <td>46.310760</td>\n",
       "      <td>634.3750</td>\n",
       "      <td>76.45975</td>\n",
       "      <td>13.41146</td>\n",
       "      <td>16.13136</td>\n",
       "      <td>15.56713</td>\n",
       "      <td>15.05353</td>\n",
       "      <td>...</td>\n",
       "      <td>41.92708</td>\n",
       "      <td>39.641200</td>\n",
       "      <td>65.68287</td>\n",
       "      <td>50.92593</td>\n",
       "      <td>38.194440</td>\n",
       "      <td>157.9861</td>\n",
       "      <td>67.70834</td>\n",
       "      <td>243.0556</td>\n",
       "      <td>201.3889</td>\n",
       "      <td>NORMAL</td>\n",
       "    </tr>\n",
       "    <tr>\n",
       "      <th>2018-04-01 00:01:00</th>\n",
       "      <td>2.465394</td>\n",
       "      <td>47.09201</td>\n",
       "      <td>53.2118</td>\n",
       "      <td>46.310760</td>\n",
       "      <td>634.3750</td>\n",
       "      <td>76.45975</td>\n",
       "      <td>13.41146</td>\n",
       "      <td>16.13136</td>\n",
       "      <td>15.56713</td>\n",
       "      <td>15.05353</td>\n",
       "      <td>...</td>\n",
       "      <td>41.92708</td>\n",
       "      <td>39.641200</td>\n",
       "      <td>65.68287</td>\n",
       "      <td>50.92593</td>\n",
       "      <td>38.194440</td>\n",
       "      <td>157.9861</td>\n",
       "      <td>67.70834</td>\n",
       "      <td>243.0556</td>\n",
       "      <td>201.3889</td>\n",
       "      <td>NORMAL</td>\n",
       "    </tr>\n",
       "    <tr>\n",
       "      <th>2018-04-01 00:02:00</th>\n",
       "      <td>2.444734</td>\n",
       "      <td>47.35243</td>\n",
       "      <td>53.2118</td>\n",
       "      <td>46.397570</td>\n",
       "      <td>638.8889</td>\n",
       "      <td>73.54598</td>\n",
       "      <td>13.32465</td>\n",
       "      <td>16.03733</td>\n",
       "      <td>15.61777</td>\n",
       "      <td>15.01013</td>\n",
       "      <td>...</td>\n",
       "      <td>41.66666</td>\n",
       "      <td>39.351852</td>\n",
       "      <td>65.39352</td>\n",
       "      <td>51.21528</td>\n",
       "      <td>38.194443</td>\n",
       "      <td>155.9606</td>\n",
       "      <td>67.12963</td>\n",
       "      <td>241.3194</td>\n",
       "      <td>203.7037</td>\n",
       "      <td>NORMAL</td>\n",
       "    </tr>\n",
       "    <tr>\n",
       "      <th>2018-04-01 00:03:00</th>\n",
       "      <td>2.460474</td>\n",
       "      <td>47.09201</td>\n",
       "      <td>53.1684</td>\n",
       "      <td>46.397568</td>\n",
       "      <td>628.1250</td>\n",
       "      <td>76.98898</td>\n",
       "      <td>13.31742</td>\n",
       "      <td>16.24711</td>\n",
       "      <td>15.69734</td>\n",
       "      <td>15.08247</td>\n",
       "      <td>...</td>\n",
       "      <td>40.88541</td>\n",
       "      <td>39.062500</td>\n",
       "      <td>64.81481</td>\n",
       "      <td>51.21528</td>\n",
       "      <td>38.194440</td>\n",
       "      <td>155.9606</td>\n",
       "      <td>66.84028</td>\n",
       "      <td>240.4514</td>\n",
       "      <td>203.1250</td>\n",
       "      <td>NORMAL</td>\n",
       "    </tr>\n",
       "    <tr>\n",
       "      <th>2018-04-01 00:04:00</th>\n",
       "      <td>2.445718</td>\n",
       "      <td>47.13541</td>\n",
       "      <td>53.2118</td>\n",
       "      <td>46.397568</td>\n",
       "      <td>636.4583</td>\n",
       "      <td>76.58897</td>\n",
       "      <td>13.35359</td>\n",
       "      <td>16.21094</td>\n",
       "      <td>15.69734</td>\n",
       "      <td>15.08247</td>\n",
       "      <td>...</td>\n",
       "      <td>41.40625</td>\n",
       "      <td>38.773150</td>\n",
       "      <td>65.10416</td>\n",
       "      <td>51.79398</td>\n",
       "      <td>38.773150</td>\n",
       "      <td>158.2755</td>\n",
       "      <td>66.55093</td>\n",
       "      <td>242.1875</td>\n",
       "      <td>201.3889</td>\n",
       "      <td>NORMAL</td>\n",
       "    </tr>\n",
       "  </tbody>\n",
       "</table>\n",
       "<p>5 rows × 53 columns</p>\n",
       "</div>"
      ],
      "text/plain": [
       "                     sensor_00  sensor_01  sensor_02  sensor_03  sensor_04  \\\n",
       "timestamp                                                                    \n",
       "2018-04-01 00:00:00   2.465394   47.09201    53.2118  46.310760   634.3750   \n",
       "2018-04-01 00:01:00   2.465394   47.09201    53.2118  46.310760   634.3750   \n",
       "2018-04-01 00:02:00   2.444734   47.35243    53.2118  46.397570   638.8889   \n",
       "2018-04-01 00:03:00   2.460474   47.09201    53.1684  46.397568   628.1250   \n",
       "2018-04-01 00:04:00   2.445718   47.13541    53.2118  46.397568   636.4583   \n",
       "\n",
       "                     sensor_05  sensor_06  sensor_07  sensor_08  sensor_09  \\\n",
       "timestamp                                                                    \n",
       "2018-04-01 00:00:00   76.45975   13.41146   16.13136   15.56713   15.05353   \n",
       "2018-04-01 00:01:00   76.45975   13.41146   16.13136   15.56713   15.05353   \n",
       "2018-04-01 00:02:00   73.54598   13.32465   16.03733   15.61777   15.01013   \n",
       "2018-04-01 00:03:00   76.98898   13.31742   16.24711   15.69734   15.08247   \n",
       "2018-04-01 00:04:00   76.58897   13.35359   16.21094   15.69734   15.08247   \n",
       "\n",
       "                     ...  sensor_43  sensor_44  sensor_45  sensor_46  \\\n",
       "timestamp            ...                                               \n",
       "2018-04-01 00:00:00  ...   41.92708  39.641200   65.68287   50.92593   \n",
       "2018-04-01 00:01:00  ...   41.92708  39.641200   65.68287   50.92593   \n",
       "2018-04-01 00:02:00  ...   41.66666  39.351852   65.39352   51.21528   \n",
       "2018-04-01 00:03:00  ...   40.88541  39.062500   64.81481   51.21528   \n",
       "2018-04-01 00:04:00  ...   41.40625  38.773150   65.10416   51.79398   \n",
       "\n",
       "                     sensor_47  sensor_48  sensor_49  sensor_50  sensor_51  \\\n",
       "timestamp                                                                    \n",
       "2018-04-01 00:00:00  38.194440   157.9861   67.70834   243.0556   201.3889   \n",
       "2018-04-01 00:01:00  38.194440   157.9861   67.70834   243.0556   201.3889   \n",
       "2018-04-01 00:02:00  38.194443   155.9606   67.12963   241.3194   203.7037   \n",
       "2018-04-01 00:03:00  38.194440   155.9606   66.84028   240.4514   203.1250   \n",
       "2018-04-01 00:04:00  38.773150   158.2755   66.55093   242.1875   201.3889   \n",
       "\n",
       "                     machine_status  \n",
       "timestamp                            \n",
       "2018-04-01 00:00:00          NORMAL  \n",
       "2018-04-01 00:01:00          NORMAL  \n",
       "2018-04-01 00:02:00          NORMAL  \n",
       "2018-04-01 00:03:00          NORMAL  \n",
       "2018-04-01 00:04:00          NORMAL  \n",
       "\n",
       "[5 rows x 53 columns]"
      ]
     },
     "execution_count": 7,
     "metadata": {},
     "output_type": "execute_result"
    }
   ],
   "source": [
    "# load csv into pandas dataframe:\n",
    "dateparse = lambda x: datetime.datetime.strptime(x, '%Y-%m-%d %H:%M:%S')\n",
    "df = pd.read_csv('sensor.csv',sep=',',parse_dates=['timestamp'], date_parser=dateparse)\n",
    "df = df.drop(df.columns[0], axis=1)\n",
    "df = df.set_index('timestamp')\n",
    "print('df.shape',df.shape)\n",
    "df.head()"
   ]
  },
  {
   "cell_type": "code",
   "execution_count": 11,
   "metadata": {
    "execution": {
     "iopub.execute_input": "2021-04-02T11:36:06.797090Z",
     "iopub.status.busy": "2021-04-02T11:36:06.796706Z",
     "iopub.status.idle": "2021-04-02T11:36:07.320518Z",
     "shell.execute_reply": "2021-04-02T11:36:07.319837Z",
     "shell.execute_reply.started": "2021-04-02T11:36:06.797043Z"
    }
   },
   "outputs": [
    {
     "data": {
      "text/html": [
       "<div>\n",
       "<style scoped>\n",
       "    .dataframe tbody tr th:only-of-type {\n",
       "        vertical-align: middle;\n",
       "    }\n",
       "\n",
       "    .dataframe tbody tr th {\n",
       "        vertical-align: top;\n",
       "    }\n",
       "\n",
       "    .dataframe thead th {\n",
       "        text-align: right;\n",
       "    }\n",
       "</style>\n",
       "<table border=\"1\" class=\"dataframe\">\n",
       "  <thead>\n",
       "    <tr style=\"text-align: right;\">\n",
       "      <th></th>\n",
       "      <th>sensor_00</th>\n",
       "      <th>sensor_01</th>\n",
       "      <th>sensor_02</th>\n",
       "      <th>sensor_03</th>\n",
       "      <th>sensor_04</th>\n",
       "      <th>sensor_05</th>\n",
       "      <th>sensor_06</th>\n",
       "      <th>sensor_07</th>\n",
       "      <th>sensor_08</th>\n",
       "      <th>sensor_09</th>\n",
       "      <th>...</th>\n",
       "      <th>sensor_42</th>\n",
       "      <th>sensor_43</th>\n",
       "      <th>sensor_44</th>\n",
       "      <th>sensor_45</th>\n",
       "      <th>sensor_46</th>\n",
       "      <th>sensor_47</th>\n",
       "      <th>sensor_48</th>\n",
       "      <th>sensor_49</th>\n",
       "      <th>sensor_50</th>\n",
       "      <th>sensor_51</th>\n",
       "    </tr>\n",
       "  </thead>\n",
       "  <tbody>\n",
       "    <tr>\n",
       "      <th>count</th>\n",
       "      <td>210112.000000</td>\n",
       "      <td>219951.000000</td>\n",
       "      <td>220301.000000</td>\n",
       "      <td>220301.000000</td>\n",
       "      <td>220301.000000</td>\n",
       "      <td>220301.000000</td>\n",
       "      <td>215522.000000</td>\n",
       "      <td>214869.000000</td>\n",
       "      <td>215213.000000</td>\n",
       "      <td>215725.000000</td>\n",
       "      <td>...</td>\n",
       "      <td>220293.000000</td>\n",
       "      <td>220293.000000</td>\n",
       "      <td>220293.000000</td>\n",
       "      <td>220293.000000</td>\n",
       "      <td>220293.000000</td>\n",
       "      <td>220293.000000</td>\n",
       "      <td>220293.000000</td>\n",
       "      <td>220293.000000</td>\n",
       "      <td>143303.000000</td>\n",
       "      <td>204937.000000</td>\n",
       "    </tr>\n",
       "    <tr>\n",
       "      <th>mean</th>\n",
       "      <td>2.372221</td>\n",
       "      <td>47.591611</td>\n",
       "      <td>50.867392</td>\n",
       "      <td>43.752481</td>\n",
       "      <td>590.673936</td>\n",
       "      <td>73.396414</td>\n",
       "      <td>13.501537</td>\n",
       "      <td>15.843152</td>\n",
       "      <td>15.200721</td>\n",
       "      <td>14.799210</td>\n",
       "      <td>...</td>\n",
       "      <td>35.453455</td>\n",
       "      <td>43.879591</td>\n",
       "      <td>42.656877</td>\n",
       "      <td>43.094984</td>\n",
       "      <td>48.018585</td>\n",
       "      <td>44.340903</td>\n",
       "      <td>150.889044</td>\n",
       "      <td>57.119968</td>\n",
       "      <td>183.049260</td>\n",
       "      <td>202.699667</td>\n",
       "    </tr>\n",
       "    <tr>\n",
       "      <th>std</th>\n",
       "      <td>0.412227</td>\n",
       "      <td>3.296666</td>\n",
       "      <td>3.666820</td>\n",
       "      <td>2.418887</td>\n",
       "      <td>144.023912</td>\n",
       "      <td>17.298247</td>\n",
       "      <td>2.163736</td>\n",
       "      <td>2.201155</td>\n",
       "      <td>2.037390</td>\n",
       "      <td>2.091963</td>\n",
       "      <td>...</td>\n",
       "      <td>10.259521</td>\n",
       "      <td>11.044404</td>\n",
       "      <td>11.576355</td>\n",
       "      <td>12.837520</td>\n",
       "      <td>15.641284</td>\n",
       "      <td>10.442437</td>\n",
       "      <td>82.244957</td>\n",
       "      <td>19.143598</td>\n",
       "      <td>65.258650</td>\n",
       "      <td>109.588607</td>\n",
       "    </tr>\n",
       "    <tr>\n",
       "      <th>min</th>\n",
       "      <td>0.000000</td>\n",
       "      <td>0.000000</td>\n",
       "      <td>33.159720</td>\n",
       "      <td>31.640620</td>\n",
       "      <td>2.798032</td>\n",
       "      <td>0.000000</td>\n",
       "      <td>0.014468</td>\n",
       "      <td>0.000000</td>\n",
       "      <td>0.028935</td>\n",
       "      <td>0.000000</td>\n",
       "      <td>...</td>\n",
       "      <td>22.135416</td>\n",
       "      <td>24.479166</td>\n",
       "      <td>25.752316</td>\n",
       "      <td>26.331018</td>\n",
       "      <td>26.331018</td>\n",
       "      <td>27.199070</td>\n",
       "      <td>26.331018</td>\n",
       "      <td>26.620370</td>\n",
       "      <td>27.488426</td>\n",
       "      <td>27.777779</td>\n",
       "    </tr>\n",
       "    <tr>\n",
       "      <th>25%</th>\n",
       "      <td>2.438831</td>\n",
       "      <td>46.310760</td>\n",
       "      <td>50.390620</td>\n",
       "      <td>42.838539</td>\n",
       "      <td>626.620400</td>\n",
       "      <td>69.976260</td>\n",
       "      <td>13.346350</td>\n",
       "      <td>15.907120</td>\n",
       "      <td>15.183740</td>\n",
       "      <td>15.053530</td>\n",
       "      <td>...</td>\n",
       "      <td>32.812500</td>\n",
       "      <td>39.583330</td>\n",
       "      <td>36.747684</td>\n",
       "      <td>36.747684</td>\n",
       "      <td>40.509258</td>\n",
       "      <td>39.062500</td>\n",
       "      <td>83.912030</td>\n",
       "      <td>47.743060</td>\n",
       "      <td>167.534700</td>\n",
       "      <td>179.108800</td>\n",
       "    </tr>\n",
       "    <tr>\n",
       "      <th>50%</th>\n",
       "      <td>2.456539</td>\n",
       "      <td>48.133678</td>\n",
       "      <td>51.649300</td>\n",
       "      <td>44.227428</td>\n",
       "      <td>632.638916</td>\n",
       "      <td>75.576790</td>\n",
       "      <td>13.642940</td>\n",
       "      <td>16.167530</td>\n",
       "      <td>15.494790</td>\n",
       "      <td>15.082470</td>\n",
       "      <td>...</td>\n",
       "      <td>35.156250</td>\n",
       "      <td>42.968750</td>\n",
       "      <td>40.509260</td>\n",
       "      <td>40.219910</td>\n",
       "      <td>44.849540</td>\n",
       "      <td>42.534720</td>\n",
       "      <td>138.020800</td>\n",
       "      <td>52.662040</td>\n",
       "      <td>193.865700</td>\n",
       "      <td>197.338000</td>\n",
       "    </tr>\n",
       "    <tr>\n",
       "      <th>75%</th>\n",
       "      <td>2.499826</td>\n",
       "      <td>49.479160</td>\n",
       "      <td>52.777770</td>\n",
       "      <td>45.312500</td>\n",
       "      <td>637.615723</td>\n",
       "      <td>80.912150</td>\n",
       "      <td>14.539930</td>\n",
       "      <td>16.427950</td>\n",
       "      <td>15.697340</td>\n",
       "      <td>15.118630</td>\n",
       "      <td>...</td>\n",
       "      <td>36.979164</td>\n",
       "      <td>46.614580</td>\n",
       "      <td>45.138890</td>\n",
       "      <td>44.849540</td>\n",
       "      <td>51.215280</td>\n",
       "      <td>46.585650</td>\n",
       "      <td>208.333300</td>\n",
       "      <td>60.763890</td>\n",
       "      <td>219.907400</td>\n",
       "      <td>216.724500</td>\n",
       "    </tr>\n",
       "    <tr>\n",
       "      <th>max</th>\n",
       "      <td>2.549016</td>\n",
       "      <td>56.727430</td>\n",
       "      <td>56.032990</td>\n",
       "      <td>48.220490</td>\n",
       "      <td>800.000000</td>\n",
       "      <td>99.999880</td>\n",
       "      <td>22.251160</td>\n",
       "      <td>23.596640</td>\n",
       "      <td>24.348960</td>\n",
       "      <td>25.000000</td>\n",
       "      <td>...</td>\n",
       "      <td>374.218800</td>\n",
       "      <td>408.593700</td>\n",
       "      <td>1000.000000</td>\n",
       "      <td>320.312500</td>\n",
       "      <td>370.370400</td>\n",
       "      <td>303.530100</td>\n",
       "      <td>561.632000</td>\n",
       "      <td>464.409700</td>\n",
       "      <td>1000.000000</td>\n",
       "      <td>1000.000000</td>\n",
       "    </tr>\n",
       "  </tbody>\n",
       "</table>\n",
       "<p>8 rows × 52 columns</p>\n",
       "</div>"
      ],
      "text/plain": [
       "           sensor_00      sensor_01      sensor_02      sensor_03  \\\n",
       "count  210112.000000  219951.000000  220301.000000  220301.000000   \n",
       "mean        2.372221      47.591611      50.867392      43.752481   \n",
       "std         0.412227       3.296666       3.666820       2.418887   \n",
       "min         0.000000       0.000000      33.159720      31.640620   \n",
       "25%         2.438831      46.310760      50.390620      42.838539   \n",
       "50%         2.456539      48.133678      51.649300      44.227428   \n",
       "75%         2.499826      49.479160      52.777770      45.312500   \n",
       "max         2.549016      56.727430      56.032990      48.220490   \n",
       "\n",
       "           sensor_04      sensor_05      sensor_06      sensor_07  \\\n",
       "count  220301.000000  220301.000000  215522.000000  214869.000000   \n",
       "mean      590.673936      73.396414      13.501537      15.843152   \n",
       "std       144.023912      17.298247       2.163736       2.201155   \n",
       "min         2.798032       0.000000       0.014468       0.000000   \n",
       "25%       626.620400      69.976260      13.346350      15.907120   \n",
       "50%       632.638916      75.576790      13.642940      16.167530   \n",
       "75%       637.615723      80.912150      14.539930      16.427950   \n",
       "max       800.000000      99.999880      22.251160      23.596640   \n",
       "\n",
       "           sensor_08      sensor_09  ...      sensor_42      sensor_43  \\\n",
       "count  215213.000000  215725.000000  ...  220293.000000  220293.000000   \n",
       "mean       15.200721      14.799210  ...      35.453455      43.879591   \n",
       "std         2.037390       2.091963  ...      10.259521      11.044404   \n",
       "min         0.028935       0.000000  ...      22.135416      24.479166   \n",
       "25%        15.183740      15.053530  ...      32.812500      39.583330   \n",
       "50%        15.494790      15.082470  ...      35.156250      42.968750   \n",
       "75%        15.697340      15.118630  ...      36.979164      46.614580   \n",
       "max        24.348960      25.000000  ...     374.218800     408.593700   \n",
       "\n",
       "           sensor_44      sensor_45      sensor_46      sensor_47  \\\n",
       "count  220293.000000  220293.000000  220293.000000  220293.000000   \n",
       "mean       42.656877      43.094984      48.018585      44.340903   \n",
       "std        11.576355      12.837520      15.641284      10.442437   \n",
       "min        25.752316      26.331018      26.331018      27.199070   \n",
       "25%        36.747684      36.747684      40.509258      39.062500   \n",
       "50%        40.509260      40.219910      44.849540      42.534720   \n",
       "75%        45.138890      44.849540      51.215280      46.585650   \n",
       "max      1000.000000     320.312500     370.370400     303.530100   \n",
       "\n",
       "           sensor_48      sensor_49      sensor_50      sensor_51  \n",
       "count  220293.000000  220293.000000  143303.000000  204937.000000  \n",
       "mean      150.889044      57.119968     183.049260     202.699667  \n",
       "std        82.244957      19.143598      65.258650     109.588607  \n",
       "min        26.331018      26.620370      27.488426      27.777779  \n",
       "25%        83.912030      47.743060     167.534700     179.108800  \n",
       "50%       138.020800      52.662040     193.865700     197.338000  \n",
       "75%       208.333300      60.763890     219.907400     216.724500  \n",
       "max       561.632000     464.409700    1000.000000    1000.000000  \n",
       "\n",
       "[8 rows x 52 columns]"
      ]
     },
     "execution_count": 11,
     "metadata": {},
     "output_type": "execute_result"
    }
   ],
   "source": [
    "df.describe()"
   ]
  },
  {
   "cell_type": "markdown",
   "metadata": {},
   "source": [
    "# Initial data cleansing:"
   ]
  },
  {
   "cell_type": "markdown",
   "metadata": {},
   "source": [
    "### Drop sparse columns"
   ]
  },
  {
   "cell_type": "code",
   "execution_count": 49,
   "metadata": {
    "execution": {
     "iopub.execute_input": "2021-04-02T11:42:58.725462Z",
     "iopub.status.busy": "2021-04-02T11:42:58.725042Z",
     "iopub.status.idle": "2021-04-02T11:42:58.988413Z",
     "shell.execute_reply": "2021-04-02T11:42:58.987547Z",
     "shell.execute_reply.started": "2021-04-02T11:42:58.725387Z"
    }
   },
   "outputs": [
    {
     "name": "stdout",
     "output_type": "stream",
     "text": [
      "original df shape (220320, 45)\n",
      "dropped cols:  []\n",
      "df after dropping (220320, 45)\n",
      "Remaining missing data:\n",
      "sensor_01: 369\tsensor_02: 19\tsensor_03: 19\tsensor_04: 19\tsensor_05: 19\tsensor_10: 19\tsensor_11: 19\tsensor_12: 19\t\n",
      "sensor_13: 19\tsensor_14: 21\tsensor_16: 31\tsensor_17: 46\tsensor_18: 46\tsensor_19: 16\tsensor_20: 16\tsensor_21: 16\t\n",
      "sensor_22: 41\tsensor_23: 16\tsensor_24: 16\tsensor_25: 36\tsensor_26: 20\tsensor_27: 16\tsensor_28: 16\tsensor_29: 72\t\n",
      "sensor_30: 261\tsensor_31: 16\tsensor_32: 68\tsensor_33: 16\tsensor_34: 16\tsensor_35: 16\tsensor_36: 16\tsensor_37: 16\t\n",
      "sensor_38: 27\tsensor_39: 27\tsensor_40: 27\tsensor_41: 27\tsensor_42: 27\tsensor_43: 27\tsensor_44: 27\tsensor_45: 27\t\n",
      "sensor_46: 27\tsensor_47: 27\tsensor_48: 27\tsensor_49: 27\tmachine_status: 0\t"
     ]
    },
    {
     "data": {
      "application/vnd.jupyter.widget-view+json": {
       "model_id": "21e2eba9de774fb6bd3cb0f9270aac53",
       "version_major": 2,
       "version_minor": 0
      },
      "text/plain": [
       "Canvas(toolbar=Toolbar(toolitems=[('Home', 'Reset original view', 'home', 'home'), ('Back', 'Back to previous …"
      ]
     },
     "metadata": {},
     "output_type": "display_data"
    },
    {
     "data": {
      "text/plain": [
       "<AxesSubplot:>"
      ]
     },
     "execution_count": 49,
     "metadata": {},
     "output_type": "execute_result"
    }
   ],
   "source": [
    "print('original df shape',df.shape)\n",
    "x = df.isna().sum()\n",
    "\n",
    "# if there are missing values more than 1 pct of the time then drop those columns\n",
    "# this might need to be tweeked, but lets see how it spans out:\n",
    "threshold = df.shape[0]*0.01\n",
    "nan_cols = x[x>threshold].index\n",
    "df = df.drop(labels=nan_cols,axis=1)\n",
    "\n",
    "print('dropped cols: ', nan_cols.values)\n",
    "print('df after dropping',df.shape)\n",
    "print('Remaining missing data:')\n",
    "\n",
    "for i,element in enumerate(zip(df.isna().sum().index,df.isna().sum())):\n",
    "    idx,val = element\n",
    "    if (i % 8) == 0 and i > 0:\n",
    "        print()\n",
    "    print(f'{idx}: {val}',end ='\\t')\n",
    "\n",
    "fig,ax=plt.subplots(1,1,figsize=(12,5))\n",
    "df.isna().sum().plot(kind='bar',ax=ax)"
   ]
  },
  {
   "cell_type": "markdown",
   "metadata": {},
   "source": [
    "### Correlation matrix:"
   ]
  },
  {
   "cell_type": "code",
   "execution_count": 13,
   "metadata": {
    "execution": {
     "iopub.execute_input": "2021-04-02T11:36:07.436804Z",
     "iopub.status.busy": "2021-04-02T11:36:07.436551Z",
     "iopub.status.idle": "2021-04-02T11:36:08.367939Z",
     "shell.execute_reply": "2021-04-02T11:36:08.366622Z",
     "shell.execute_reply.started": "2021-04-02T11:36:07.436778Z"
    }
   },
   "outputs": [
    {
     "data": {
      "application/vnd.jupyter.widget-view+json": {
       "model_id": "ace66a9fdd8f4b339c5fc8bf8366111c",
       "version_major": 2,
       "version_minor": 0
      },
      "text/plain": [
       "Canvas(toolbar=Toolbar(toolitems=[('Home', 'Reset original view', 'home', 'home'), ('Back', 'Back to previous …"
      ]
     },
     "metadata": {},
     "output_type": "display_data"
    }
   ],
   "source": [
    "#Copied from: https://seaborn.pydata.org/examples/many_pairwise_correlations.html\n",
    "\n",
    "# Compute the correlation matrix\n",
    "corr = df.corr()\n",
    "\n",
    "# Generate a mask for the upper triangle\n",
    "mask = np.triu(np.ones_like(corr, dtype=np.bool))\n",
    "\n",
    "# Set up the matplotlib figure\n",
    "f, ax = plt.subplots(figsize=(11, 9))\n",
    "\n",
    "# Generate a custom diverging colormap\n",
    "cmap = sns.diverging_palette(220, 10, as_cmap=True)\n",
    "\n",
    "# Draw the heatmap with the mask and correct aspect ratio\n",
    "sns.heatmap(corr, mask=mask, cmap=cmap, vmax=.3, center=0,\n",
    "            square=True, linewidths=.5, cbar_kws={\"shrink\": .5})\n",
    "f.show()"
   ]
  },
  {
   "cell_type": "markdown",
   "metadata": {},
   "source": [
    " - Initially nothing majorly correlated, but there do seem to be groupings of sorts"
   ]
  },
  {
   "cell_type": "markdown",
   "metadata": {},
   "source": [
    "### Standardize / normalize values of each timeseries:"
   ]
  },
  {
   "cell_type": "code",
   "execution_count": 14,
   "metadata": {
    "execution": {
     "iopub.execute_input": "2021-04-02T11:36:08.370027Z",
     "iopub.status.busy": "2021-04-02T11:36:08.369642Z",
     "iopub.status.idle": "2021-04-02T11:36:08.374346Z",
     "shell.execute_reply": "2021-04-02T11:36:08.373524Z",
     "shell.execute_reply.started": "2021-04-02T11:36:08.369982Z"
    }
   },
   "outputs": [],
   "source": [
    "# df.fillna()"
   ]
  },
  {
   "cell_type": "code",
   "execution_count": 15,
   "metadata": {
    "execution": {
     "iopub.execute_input": "2021-04-02T11:36:08.376180Z",
     "iopub.status.busy": "2021-04-02T11:36:08.375626Z",
     "iopub.status.idle": "2021-04-02T11:36:09.667233Z",
     "shell.execute_reply": "2021-04-02T11:36:09.666550Z",
     "shell.execute_reply.started": "2021-04-02T11:36:08.376139Z"
    }
   },
   "outputs": [],
   "source": [
    "## Optionally do it for all sensors:\n",
    "#####\n",
    "df.iloc[:,:-1] = StandardScaler().fit_transform(df.iloc[:,:-1])\n"
   ]
  },
  {
   "cell_type": "markdown",
   "metadata": {},
   "source": [
    "### Misc:"
   ]
  },
  {
   "cell_type": "code",
   "execution_count": 16,
   "metadata": {
    "execution": {
     "iopub.execute_input": "2021-04-02T11:36:09.668136Z",
     "iopub.status.busy": "2021-04-02T11:36:09.667966Z",
     "iopub.status.idle": "2021-04-02T11:36:09.706318Z",
     "shell.execute_reply": "2021-04-02T11:36:09.701969Z",
     "shell.execute_reply.started": "2021-04-02T11:36:09.668116Z"
    }
   },
   "outputs": [
    {
     "name": "stdout",
     "output_type": "stream",
     "text": [
      "(220320, 45)\n"
     ]
    },
    {
     "data": {
      "text/plain": [
       "[(369, dtype('float64')),\n",
       " (19, dtype('float64')),\n",
       " (19, dtype('float64')),\n",
       " (19, dtype('float64')),\n",
       " (19, dtype('float64')),\n",
       " (19, dtype('float64')),\n",
       " (19, dtype('float64')),\n",
       " (19, dtype('float64')),\n",
       " (19, dtype('float64')),\n",
       " (21, dtype('float64')),\n",
       " (31, dtype('float64')),\n",
       " (46, dtype('float64')),\n",
       " (46, dtype('float64')),\n",
       " (16, dtype('float64')),\n",
       " (16, dtype('float64')),\n",
       " (16, dtype('float64')),\n",
       " (41, dtype('float64')),\n",
       " (16, dtype('float64')),\n",
       " (16, dtype('float64')),\n",
       " (36, dtype('float64')),\n",
       " (20, dtype('float64')),\n",
       " (16, dtype('float64')),\n",
       " (16, dtype('float64')),\n",
       " (72, dtype('float64')),\n",
       " (261, dtype('float64')),\n",
       " (16, dtype('float64')),\n",
       " (68, dtype('float64')),\n",
       " (16, dtype('float64')),\n",
       " (16, dtype('float64')),\n",
       " (16, dtype('float64')),\n",
       " (16, dtype('float64')),\n",
       " (16, dtype('float64')),\n",
       " (27, dtype('float64')),\n",
       " (27, dtype('float64')),\n",
       " (27, dtype('float64')),\n",
       " (27, dtype('float64')),\n",
       " (27, dtype('float64')),\n",
       " (27, dtype('float64')),\n",
       " (27, dtype('float64')),\n",
       " (27, dtype('float64')),\n",
       " (27, dtype('float64')),\n",
       " (27, dtype('float64')),\n",
       " (27, dtype('float64')),\n",
       " (27, dtype('float64')),\n",
       " (0, dtype('O'))]"
      ]
     },
     "execution_count": 16,
     "metadata": {},
     "output_type": "execute_result"
    }
   ],
   "source": [
    "print(df.shape)\n",
    "list(zip(df.isna().sum(),df.dtypes))"
   ]
  },
  {
   "cell_type": "markdown",
   "metadata": {},
   "source": [
    "# Init data exploration:"
   ]
  },
  {
   "cell_type": "code",
   "execution_count": 17,
   "metadata": {
    "execution": {
     "iopub.execute_input": "2021-04-02T11:36:09.709609Z",
     "iopub.status.busy": "2021-04-02T11:36:09.708951Z",
     "iopub.status.idle": "2021-04-02T11:36:09.723779Z",
     "shell.execute_reply": "2021-04-02T11:36:09.722920Z",
     "shell.execute_reply.started": "2021-04-02T11:36:09.709562Z"
    }
   },
   "outputs": [
    {
     "data": {
      "text/plain": [
       "Index(['sensor_01', 'sensor_02', 'sensor_03', 'sensor_04', 'sensor_05',\n",
       "       'sensor_10', 'sensor_11', 'sensor_12', 'sensor_13', 'sensor_14',\n",
       "       'sensor_16', 'sensor_17', 'sensor_18', 'sensor_19', 'sensor_20',\n",
       "       'sensor_21', 'sensor_22', 'sensor_23', 'sensor_24', 'sensor_25',\n",
       "       'sensor_26', 'sensor_27', 'sensor_28', 'sensor_29', 'sensor_30',\n",
       "       'sensor_31', 'sensor_32', 'sensor_33', 'sensor_34', 'sensor_35',\n",
       "       'sensor_36', 'sensor_37', 'sensor_38', 'sensor_39', 'sensor_40',\n",
       "       'sensor_41', 'sensor_42', 'sensor_43', 'sensor_44', 'sensor_45',\n",
       "       'sensor_46', 'sensor_47', 'sensor_48', 'sensor_49', 'machine_status'],\n",
       "      dtype='object')"
      ]
     },
     "execution_count": 17,
     "metadata": {},
     "output_type": "execute_result"
    }
   ],
   "source": [
    "df.columns"
   ]
  },
  {
   "cell_type": "markdown",
   "metadata": {},
   "source": [
    "### How are the labels distributed?"
   ]
  },
  {
   "cell_type": "code",
   "execution_count": 18,
   "metadata": {
    "execution": {
     "iopub.execute_input": "2021-04-02T11:36:09.726511Z",
     "iopub.status.busy": "2021-04-02T11:36:09.725854Z",
     "iopub.status.idle": "2021-04-02T11:36:09.777216Z",
     "shell.execute_reply": "2021-04-02T11:36:09.776722Z",
     "shell.execute_reply.started": "2021-04-02T11:36:09.726462Z"
    }
   },
   "outputs": [
    {
     "data": {
      "text/plain": [
       "NORMAL        205836\n",
       "RECOVERING     14477\n",
       "BROKEN             7\n",
       "Name: machine_status, dtype: int64"
      ]
     },
     "metadata": {},
     "output_type": "display_data"
    },
    {
     "name": "stdout",
     "output_type": "stream",
     "text": [
      "\n",
      "\n",
      "The same in percentages :\n"
     ]
    },
    {
     "data": {
      "text/plain": [
       "NORMAL        93.425926\n",
       "RECOVERING     6.570897\n",
       "BROKEN         0.003177\n",
       "Name: machine_status, dtype: float64"
      ]
     },
     "execution_count": 18,
     "metadata": {},
     "output_type": "execute_result"
    }
   ],
   "source": [
    "display(df.machine_status.value_counts())\n",
    "print('\\n\\nThe same in percentages :')\n",
    "df.machine_status.value_counts(normalize=True)*100\n"
   ]
  },
  {
   "cell_type": "markdown",
   "metadata": {},
   "source": [
    " - Broken status is extremely rare it only occurs 0.003% of the time!\n",
    " - Initial thoughts are to try and visually demontrate how a broken status happens on a device and try and figure out a pattern.\n",
    " - I think a standard ML will struggle to identify broken status on such an unbalanced dataset"
   ]
  },
  {
   "cell_type": "code",
   "execution_count": 19,
   "metadata": {
    "execution": {
     "iopub.execute_input": "2021-04-02T11:36:09.778163Z",
     "iopub.status.busy": "2021-04-02T11:36:09.777963Z",
     "iopub.status.idle": "2021-04-02T11:36:09.797206Z",
     "shell.execute_reply": "2021-04-02T11:36:09.796256Z",
     "shell.execute_reply.started": "2021-04-02T11:36:09.778142Z"
    }
   },
   "outputs": [
    {
     "data": {
      "text/plain": [
       "timestamp\n",
       "2018-04-12 21:55:00    0\n",
       "2018-04-18 00:30:00    0\n",
       "2018-05-19 03:18:00    0\n",
       "2018-05-25 00:30:00    0\n",
       "2018-06-28 22:00:00    0\n",
       "2018-07-08 00:11:00    0\n",
       "2018-07-25 14:00:00    0\n",
       "dtype: int64"
      ]
     },
     "execution_count": 19,
     "metadata": {},
     "output_type": "execute_result"
    }
   ],
   "source": [
    "df[df.machine_status == 'BROKEN'].isna().sum(axis=1)"
   ]
  },
  {
   "cell_type": "markdown",
   "metadata": {},
   "source": [
    " -  Whenever machine_status == 'BROKEN' there does seems to be incoming data!"
   ]
  },
  {
   "cell_type": "markdown",
   "metadata": {},
   "source": [
    "### Are 'BROKEN' labels always followed by 'RECOVERING' and preceded by 'Normal'?"
   ]
  },
  {
   "cell_type": "code",
   "execution_count": 20,
   "metadata": {
    "execution": {
     "iopub.execute_input": "2021-04-02T11:36:09.798203Z",
     "iopub.status.busy": "2021-04-02T11:36:09.798029Z",
     "iopub.status.idle": "2021-04-02T11:36:10.179631Z",
     "shell.execute_reply": "2021-04-02T11:36:10.179093Z",
     "shell.execute_reply.started": "2021-04-02T11:36:09.798184Z"
    }
   },
   "outputs": [
    {
     "name": "stdout",
     "output_type": "stream",
     "text": [
      "(220320, 1)\n",
      "['BROKEN' 'NORMAL' 'RECOVERING']\n"
     ]
    },
    {
     "name": "stderr",
     "output_type": "stream",
     "text": [
      "/opt/conda/lib/python3.8/site-packages/sklearn/utils/validation.py:72: DataConversionWarning: A column-vector y was passed when a 1d array was expected. Please change the shape of y to (n_samples, ), for example using ravel().\n",
      "  return f(**kwargs)\n"
     ]
    },
    {
     "data": {
      "application/vnd.jupyter.widget-view+json": {
       "model_id": "28c3d2a02dda4dd19157f21dcf76353c",
       "version_major": 2,
       "version_minor": 0
      },
      "text/plain": [
       "Canvas(toolbar=Toolbar(toolitems=[('Home', 'Reset original view', 'home', 'home'), ('Back', 'Back to previous …"
      ]
     },
     "metadata": {},
     "output_type": "display_data"
    }
   ],
   "source": [
    "idx = df[df.machine_status == 'BROKEN'].index\n",
    "\n",
    "# dt = 2400\n",
    "dt_m = 30\n",
    "dt_p = 1000\n",
    "df_labels= df[['machine_status']].copy()\n",
    "print(df_labels.shape)\n",
    "\n",
    "encoder = LabelEncoder().fit(df_labels[['machine_status']])\n",
    "print(encoder.classes_)\n",
    "\n",
    "df_labels['machine_status'] = encoder.transform(df_labels[['machine_status']])\n",
    "\n",
    "df_labels.head()\n",
    "\n",
    "fig,ax = plt.subplots(7,1,figsize=(10,8))\n",
    "fig.tight_layout()\n",
    "\n",
    "for i,x in enumerate(idx):    \n",
    "    \n",
    "    t_m_dt = x - datetime.timedelta(minutes = dt_m)\n",
    "    t_p_dt = x + datetime.timedelta(minutes = dt_p)\n",
    "    \n",
    "    df_plot = df_labels.loc[t_m_dt:t_p_dt,['machine_status']].copy()\n",
    "\n",
    "    ax[i].plot(df_plot,label=x)\n",
    "    ax[i].axvline(idx[i],linestyle='--',color='r')\n",
    "    ax[i].set_title(f'incident #{i} time evolution')\n",
    "    ax[i].legend()\n",
    "    ax[i].grid()"
   ]
  },
  {
   "cell_type": "code",
   "execution_count": 21,
   "metadata": {
    "execution": {
     "iopub.execute_input": "2021-04-02T11:36:10.180830Z",
     "iopub.status.busy": "2021-04-02T11:36:10.180454Z",
     "iopub.status.idle": "2021-04-02T11:36:10.189561Z",
     "shell.execute_reply": "2021-04-02T11:36:10.189018Z",
     "shell.execute_reply.started": "2021-04-02T11:36:10.180803Z"
    }
   },
   "outputs": [
    {
     "data": {
      "text/plain": [
       "7"
      ]
     },
     "execution_count": 21,
     "metadata": {},
     "output_type": "execute_result"
    }
   ],
   "source": [
    "shifted = df_labels.machine_status.shift(-1)\n",
    "orig = df_labels.machine_status\n",
    "\n",
    "condition = (orig !=2) & (shifted == 2)\n",
    "np.where(condition,1,0).sum()"
   ]
  },
  {
   "cell_type": "markdown",
   "metadata": {},
   "source": [
    "### How does a particular sensor behave around the machine_status == 'broken' timestamps?"
   ]
  },
  {
   "cell_type": "code",
   "execution_count": 22,
   "metadata": {
    "execution": {
     "iopub.execute_input": "2021-04-02T11:36:10.190850Z",
     "iopub.status.busy": "2021-04-02T11:36:10.190445Z",
     "iopub.status.idle": "2021-04-02T11:36:10.589911Z",
     "shell.execute_reply": "2021-04-02T11:36:10.589385Z",
     "shell.execute_reply.started": "2021-04-02T11:36:10.190815Z"
    }
   },
   "outputs": [
    {
     "data": {
      "application/vnd.jupyter.widget-view+json": {
       "model_id": "dd9241faa35c45b2b676758ed6381297",
       "version_major": 2,
       "version_minor": 0
      },
      "text/plain": [
       "Canvas(toolbar=Toolbar(toolitems=[('Home', 'Reset original view', 'home', 'home'), ('Back', 'Back to previous …"
      ]
     },
     "metadata": {},
     "output_type": "display_data"
    }
   ],
   "source": [
    "\n",
    "idx = df[df.machine_status == 'BROKEN'].index\n",
    "\n",
    "dt = 200\n",
    "sensor= 'sensor_04'\n",
    "fig,ax = plt.subplots(7,1,figsize=(10,15))\n",
    "fig.tight_layout()\n",
    "for i,x in enumerate(idx):    \n",
    "    \n",
    "    t_m_dt = x - datetime.timedelta(minutes = dt)\n",
    "    t_p_dt = x + datetime.timedelta(minutes = dt)\n",
    "    \n",
    "    df_plot = df.loc[t_m_dt:t_p_dt,[sensor]].copy()\n",
    "\n",
    "    ax[i].plot(df_plot,label=x)\n",
    "    ax[i].axvline(idx[i],linestyle='--',color='r')\n",
    "    ax[i].set_title(f'incident #{i} on {sensor}')\n",
    "    ax[i].legend()\n",
    "    ax[i].grid()\n",
    "\n",
    "\n",
    "    "
   ]
  },
  {
   "cell_type": "markdown",
   "metadata": {},
   "source": [
    "### How does each sensor behave in relation to other sensors during a Broken status?\n",
    " "
   ]
  },
  {
   "cell_type": "code",
   "execution_count": 23,
   "metadata": {
    "execution": {
     "iopub.execute_input": "2021-04-02T11:36:10.591095Z",
     "iopub.status.busy": "2021-04-02T11:36:10.590812Z",
     "iopub.status.idle": "2021-04-02T11:36:10.725142Z",
     "shell.execute_reply": "2021-04-02T11:36:10.724663Z",
     "shell.execute_reply.started": "2021-04-02T11:36:10.591065Z"
    }
   },
   "outputs": [
    {
     "data": {
      "application/vnd.jupyter.widget-view+json": {
       "model_id": "58170e97fe434ef7968860b2d7d38647",
       "version_major": 2,
       "version_minor": 0
      },
      "text/plain": [
       "Canvas(toolbar=Toolbar(toolitems=[('Home', 'Reset original view', 'home', 'home'), ('Back', 'Back to previous …"
      ]
     },
     "metadata": {},
     "output_type": "display_data"
    },
    {
     "data": {
      "text/plain": [
       "<matplotlib.legend.Legend at 0x7f758b55ddc0>"
      ]
     },
     "execution_count": 23,
     "metadata": {},
     "output_type": "execute_result"
    }
   ],
   "source": [
    "# one sensor\n",
    "\n",
    "idx = df[df.machine_status == 'BROKEN'].index\n",
    "\n",
    "dt = 30\n",
    "t_m_dt = idx[0] - datetime.timedelta(minutes = dt)\n",
    "t_p_dt = idx[0] + datetime.timedelta(minutes = dt)\n",
    "\n",
    "df_plot = df.loc[t_m_dt:t_p_dt,:].copy()\n",
    "df_plot = df_plot.iloc[:,:-1]\n",
    "df_plot.iloc[:,:] = StandardScaler().fit_transform(df_plot)\n",
    "# display(df_plot.columns)\n",
    "\n",
    "### Make plots:\n",
    "# fig,ax = plt.subplots(nrows=7,ncols=7,figsize=(10,5))\n",
    "fig,ax = plt.subplots(nrows=1,ncols=1,figsize=(10,5))\n",
    "# fig.tight_layout()\n",
    "\n",
    "sensor= 'sensor_01'\n",
    "ax.plot(df_plot[[sensor]],'b-o',label= 'sensor')\n",
    "ax.axvline(idx[0],linestyle='--',color='r',label = str(idx[0]))\n",
    "\n",
    "rest = [x for x in df_plot.columns if x != sensor]\n",
    "for s in rest:\n",
    "    ax.plot(df_plot[[s]],'-',color='lightgrey',alpha=0.3)\n",
    "\n",
    "#dummy for legend:\n",
    "ax.plot([],[],'-',color='lightgrey',alpha=0.3,label='rest of sensors')\n",
    "\n",
    "ax.set_title(sensor)\n",
    "ax.legend(loc='upper left')\n",
    "\n"
   ]
  },
  {
   "cell_type": "code",
   "execution_count": 24,
   "metadata": {
    "execution": {
     "iopub.execute_input": "2021-04-02T11:36:10.726453Z",
     "iopub.status.busy": "2021-04-02T11:36:10.726147Z",
     "iopub.status.idle": "2021-04-02T11:36:15.204123Z",
     "shell.execute_reply": "2021-04-02T11:36:15.202898Z",
     "shell.execute_reply.started": "2021-04-02T11:36:10.726431Z"
    }
   },
   "outputs": [
    {
     "data": {
      "application/vnd.jupyter.widget-view+json": {
       "model_id": "55fc129c29ed429c85ac232df7485b3f",
       "version_major": 2,
       "version_minor": 0
      },
      "text/plain": [
       "Canvas(toolbar=Toolbar(toolitems=[('Home', 'Reset original view', 'home', 'home'), ('Back', 'Back to previous …"
      ]
     },
     "metadata": {},
     "output_type": "display_data"
    }
   ],
   "source": [
    "# all sensors\n",
    "\n",
    "idx = df[df.machine_status == 'BROKEN'].index\n",
    "incident = idx[2]\n",
    "\n",
    "dt = 120\n",
    "t_m_dt = incident - datetime.timedelta(minutes = dt)\n",
    "t_p_dt = incident + datetime.timedelta(minutes = dt)\n",
    "# t_m_dt = incident - datetime.timedelta(hours = dt)\n",
    "# t_p_dt = incident + datetime.timedelta(hours = dt)\n",
    "\n",
    "\n",
    "\n",
    "df_plot = df.loc[t_m_dt:t_p_dt,:].copy()\n",
    "df_plot = df_plot.iloc[:,:-1]\n",
    "df_plot.iloc[:,:] = StandardScaler().fit_transform(df_plot)\n",
    "# display(df_plot.columns)\n",
    "\n",
    "### Make plots:\n",
    "n_rows = 9\n",
    "n_cols = 5\n",
    "\n",
    "fig,ax = plt.subplots(nrows=n_rows,ncols=n_cols,figsize=(12,14), sharex=True, sharey=True)\n",
    "# fig.tight_layout()\n",
    "\n",
    "for i,sensor in enumerate(df_plot.columns):\n",
    "    \n",
    "    row= i // n_cols\n",
    "    col= i % n_cols\n",
    "#     print(row,col,i,sensor)\n",
    "\n",
    "#     rest = [x for x in df_plot.columns if x != sensor]\n",
    "#     for s in rest:\n",
    "#         ax[row][col].plot(df_plot[[s]],'-',color='lightgrey',alpha=0.3)\n",
    "\n",
    "    ax[row][col].plot(df_plot[[sensor]],'b.',label= f'{sensor} row{row},col{col} ',alpha=0.3)\n",
    "    ax[row][col].axvline(incident,linestyle='--',color='r',label = 'ts of incident')\n",
    "    ax[row][col].set_title(sensor)\n",
    "    \n",
    "    #dummy plot\n",
    "    ax[row][col].plot([],[],'-',color='lightgrey',alpha=0.3,label='rest of sensors')\n",
    "    ax[row][col].tick_params(labelrotation=45)\n",
    "\n",
    "ax[-1][-1].tick_params(labelrotation=45)\n",
    "fig.suptitle(f'Broken incident timestamp {idx[-1]} \\n')\n",
    "fig.tight_layout()\n"
   ]
  },
  {
   "cell_type": "markdown",
   "metadata": {},
   "source": [
    " - Similar to the correlation plot there seem to be underlying groupings in the sensors. For example the sensors 1-13 , 14-36/37 and 38-49 exhibit \"similar\" patterns."
   ]
  },
  {
   "cell_type": "markdown",
   "metadata": {},
   "source": [
    "### Plots:"
   ]
  },
  {
   "cell_type": "code",
   "execution_count": 25,
   "metadata": {
    "execution": {
     "iopub.execute_input": "2021-04-02T11:36:15.206317Z",
     "iopub.status.busy": "2021-04-02T11:36:15.205965Z",
     "iopub.status.idle": "2021-04-02T11:36:15.214508Z",
     "shell.execute_reply": "2021-04-02T11:36:15.213663Z",
     "shell.execute_reply.started": "2021-04-02T11:36:15.206271Z"
    }
   },
   "outputs": [
    {
     "data": {
      "text/plain": [
       "Index(['sensor_01', 'sensor_02', 'sensor_03', 'sensor_04', 'sensor_05',\n",
       "       'sensor_10', 'sensor_11', 'sensor_12', 'sensor_13', 'sensor_14',\n",
       "       'sensor_16', 'sensor_17', 'sensor_18', 'sensor_19', 'sensor_20',\n",
       "       'sensor_21', 'sensor_22', 'sensor_23', 'sensor_24', 'sensor_25',\n",
       "       'sensor_26', 'sensor_27', 'sensor_28', 'sensor_29', 'sensor_30',\n",
       "       'sensor_31', 'sensor_32', 'sensor_33', 'sensor_34', 'sensor_35',\n",
       "       'sensor_36', 'sensor_37', 'sensor_38', 'sensor_39', 'sensor_40',\n",
       "       'sensor_41', 'sensor_42', 'sensor_43', 'sensor_44', 'sensor_45',\n",
       "       'sensor_46', 'sensor_47', 'sensor_48', 'sensor_49', 'machine_status'],\n",
       "      dtype='object')"
      ]
     },
     "execution_count": 25,
     "metadata": {},
     "output_type": "execute_result"
    }
   ],
   "source": [
    "df.columns"
   ]
  },
  {
   "cell_type": "markdown",
   "metadata": {},
   "source": [
    "#### Taking a look at an individual timeseries:"
   ]
  },
  {
   "cell_type": "code",
   "execution_count": 26,
   "metadata": {
    "execution": {
     "iopub.execute_input": "2021-04-02T11:36:15.216220Z",
     "iopub.status.busy": "2021-04-02T11:36:15.215940Z",
     "iopub.status.idle": "2021-04-02T11:36:15.420310Z",
     "shell.execute_reply": "2021-04-02T11:36:15.417512Z",
     "shell.execute_reply.started": "2021-04-02T11:36:15.216187Z"
    }
   },
   "outputs": [
    {
     "data": {
      "application/vnd.jupyter.widget-view+json": {
       "model_id": "3d813399630341629d4ef19e3be60ded",
       "version_major": 2,
       "version_minor": 0
      },
      "text/plain": [
       "Canvas(toolbar=Toolbar(toolitems=[('Home', 'Reset original view', 'home', 'home'), ('Back', 'Back to previous …"
      ]
     },
     "metadata": {},
     "output_type": "display_data"
    },
    {
     "name": "stdout",
     "output_type": "stream",
     "text": [
      "(220320,)\n",
      "(220320,)\n",
      "-0.0010563758228268228 0.9984138553685054\n"
     ]
    },
    {
     "data": {
      "text/plain": [
       "<matplotlib.legend.Legend at 0x7f758a532610>"
      ]
     },
     "execution_count": 26,
     "metadata": {},
     "output_type": "execute_result"
    }
   ],
   "source": [
    "plt.figure(figsize = (10,8))\n",
    "\n",
    "sensor_name = 'sensor_04'\n",
    "# sensor_name = 'sensor_41'\n",
    "val = StandardScaler().fit_transform(df[[sensor_name]].values)\n",
    "val = pd.Series(val.ravel()).fillna(0)\n",
    "val = val.rolling(window=60,center=True).median()\n",
    "\n",
    "print(df.index.shape)\n",
    "print(val.shape)\n",
    "\n",
    "plt.plot(df.index,val,label = sensor_name)\n",
    "\n",
    "idx = df[df.machine_status == 'BROKEN'].index\n",
    "for x in idx:\n",
    "    plt.axvline(x,ymax=12,linestyle='--',color='r')\n",
    "    \n",
    "# idx = df[df.machine_status == 'RECOVERING'].index[5::30]\n",
    "# for x in idx:\n",
    "#     plt.axvline(x,ymax=12,linestyle='--',color='g')\n",
    "    \n",
    "m = pd.Series(val.ravel()).fillna(0).mean()\n",
    "s = pd.Series(val.ravel()).fillna(0).std()\n",
    "print(m,s)\n",
    "\n",
    "plt.hlines(m-3*s, df.index[0], df.index[-1], colors='r', linestyles='--')\n",
    "# plt.hlines(df.index,[ for x in range(len(val))],'--',label='3 sigma')\n",
    "plt.legend()\n"
   ]
  },
  {
   "cell_type": "markdown",
   "metadata": {},
   "source": [
    "#### FFT spectrum:"
   ]
  },
  {
   "cell_type": "code",
   "execution_count": 57,
   "metadata": {
    "execution": {
     "iopub.execute_input": "2021-04-02T11:49:21.841949Z",
     "iopub.status.busy": "2021-04-02T11:49:21.841557Z",
     "iopub.status.idle": "2021-04-02T11:49:21.978895Z",
     "shell.execute_reply": "2021-04-02T11:49:21.978474Z",
     "shell.execute_reply.started": "2021-04-02T11:49:21.841905Z"
    }
   },
   "outputs": [
    {
     "data": {
      "application/vnd.jupyter.widget-view+json": {
       "model_id": "85fa1b789d7a41cab9bb05567e0edf4a",
       "version_major": 2,
       "version_minor": 0
      },
      "text/plain": [
       "Canvas(toolbar=Toolbar(toolitems=[('Home', 'Reset original view', 'home', 'home'), ('Back', 'Back to previous …"
      ]
     },
     "metadata": {},
     "output_type": "display_data"
    }
   ],
   "source": [
    "# TODO\n",
    "sensor_name = 'sensor_04'\n",
    "# sensor_name = 'sensor_05'\n",
    "# sensor_name = 'sensor_13'\n",
    "sensor_data = df[sensor_name].copy().fillna(0).values\n",
    "sensor_data -= np.mean(sensor_data)\n",
    "\n",
    "fft_data = np.fft.rfft(sensor_data)#,norm='ortho')\n",
    "freqs = np.fft.rfftfreq(len(sensor_data))\n",
    "spectrum = np.abs(fft_data)\n",
    "\n",
    "filt_index = np.argmax(fft_data) + 200\n",
    "filtered_fft = fft_data[:]\n",
    "filtered_fft[filt_index:] = 0\n",
    "filt_signal = np.fft.irfft(filtered_fft)\n",
    "\n",
    "fig,ax = plt.subplots(2,1,figsize=(12,8))\n",
    "ax[0].plot(freqs,spectrum)\n",
    "ax[0].set_xlim(-0.0001,0.005)\n",
    "ax[1].plot(df.index,sensor_data)\n",
    "ax[1].plot(df.index,filt_signal)\n",
    "\n",
    "idx = df[df.machine_status == 'BROKEN'].index\n",
    "for x in idx:\n",
    "    plt.axvline(x,ymax=12,linestyle='--',color='r')\n",
    "\n",
    "m= sensor_data.mean()\n",
    "s= sensor_data.std()\n",
    "ax[1].hlines(m-1*s, df.index[0], df.index[-1], colors='r', linestyles='--')\n",
    "\n",
    "for axis in ax:\n",
    "    axis.grid()\n",
    "fig.show()"
   ]
  },
  {
   "cell_type": "markdown",
   "metadata": {},
   "source": [
    "#### Testing spectral residual idea:"
   ]
  },
  {
   "cell_type": "code",
   "execution_count": 28,
   "metadata": {
    "execution": {
     "iopub.execute_input": "2021-04-02T11:36:15.555425Z",
     "iopub.status.busy": "2021-04-02T11:36:15.555218Z",
     "iopub.status.idle": "2021-04-02T11:36:15.791174Z",
     "shell.execute_reply": "2021-04-02T11:36:15.789614Z",
     "shell.execute_reply.started": "2021-04-02T11:36:15.555405Z"
    }
   },
   "outputs": [
    {
     "data": {
      "application/vnd.jupyter.widget-view+json": {
       "model_id": "0952c9b38ac74a5da4d58d1cdaf000d3",
       "version_major": 2,
       "version_minor": 0
      },
      "text/plain": [
       "Canvas(toolbar=Toolbar(toolitems=[('Home', 'Reset original view', 'home', 'home'), ('Back', 'Back to previous …"
      ]
     },
     "metadata": {},
     "output_type": "display_data"
    },
    {
     "name": "stdout",
     "output_type": "stream",
     "text": [
      "[0.30342991 0.30342991 0.33477131 ... 0.24476524 0.31226944 0.34120012]\n"
     ]
    },
    {
     "data": {
      "text/plain": [
       "<matplotlib.legend.Legend at 0x7f758a5c2df0>"
      ]
     },
     "execution_count": 28,
     "metadata": {},
     "output_type": "execute_result"
    }
   ],
   "source": [
    "#more on this: https://arxiv.org/pdf/1906.03821.pdf\n",
    "# and here: http://citeseerx.ist.psu.edu/viewdoc/download?doi=10.1.1.125.5641&rep=rep1&type=pdf\n",
    "\n",
    "plt.figure(figsize = (10,8))\n",
    "\n",
    "sensor_name = 'sensor_04'\n",
    "val = StandardScaler().fit_transform(df[[sensor_name]].values)\n",
    "val = pd.Series(val.ravel()).fillna(0)\n",
    "val = val.rolling(window=60,center=True).median()\n",
    "\n",
    "# plt.plot(df.index,val,label = sensor_name)\n",
    "\n",
    "idx = df[df.machine_status == 'BROKEN'].index\n",
    "for x in idx:\n",
    "    plt.axvline(x,ymax=12,linestyle='--',color='r')\n",
    "\n",
    "#### Spectral residual:\n",
    "sr_ts = df[sensor_name].copy().fillna(0).values\n",
    "sr_ts -= sr_ts.mean()\n",
    "print(sr_ts)\n",
    "\n",
    "fft = np.fft.fft(sr_ts)\n",
    "amp = np.abs(fft)\n",
    "log_amp = np.log(amp)\n",
    "phase = np.angle(fft)\n",
    "\n",
    "win_size = 600\n",
    "conv_amp = np.array([1/win_size for x in range(win_size)])\n",
    "ma_log_amp = np.convolve(log_amp, conv_amp, 'same')\n",
    "\n",
    "res_amp = log_amp - ma_log_amp\n",
    "sr = np.abs(np.fft.ifft(np.exp(res_amp + 1j * phase)))\n",
    "\n",
    "plt.plot(df.index,sr,label = 'spectral redisual')\n",
    "\n",
    "# m = pd.Series(val.ravel()).fillna(0).mean()\n",
    "# s = pd.Series(val.ravel()).fillna(0).std()\n",
    "# print(m,s)\n",
    "\n",
    "# plt.hlines(m-3*s, df.index[0], df.index[-1], colors='r', linestyles='--')\n",
    "# # plt.hlines(df.index,[ for x in range(len(val))],'--',label='3 sigma')\n",
    "\n",
    "plt.legend()"
   ]
  },
  {
   "cell_type": "markdown",
   "metadata": {},
   "source": [
    " - this transformation / spike detection looks promising ,but would require more time to investigate\n"
   ]
  },
  {
   "cell_type": "markdown",
   "metadata": {},
   "source": [
    "#### Further plots:"
   ]
  },
  {
   "cell_type": "code",
   "execution_count": 29,
   "metadata": {
    "execution": {
     "iopub.execute_input": "2021-04-02T11:36:15.792334Z",
     "iopub.status.busy": "2021-04-02T11:36:15.792026Z",
     "iopub.status.idle": "2021-04-02T11:36:15.867849Z",
     "shell.execute_reply": "2021-04-02T11:36:15.867236Z",
     "shell.execute_reply.started": "2021-04-02T11:36:15.792311Z"
    }
   },
   "outputs": [
    {
     "data": {
      "application/vnd.jupyter.widget-view+json": {
       "model_id": "b1615640597342879495176b6185b557",
       "version_major": 2,
       "version_minor": 0
      },
      "text/plain": [
       "Canvas(toolbar=Toolbar(toolitems=[('Home', 'Reset original view', 'home', 'home'), ('Back', 'Back to previous …"
      ]
     },
     "metadata": {},
     "output_type": "display_data"
    },
    {
     "data": {
      "text/plain": [
       "<matplotlib.legend.Legend at 0x7f758a3e2d00>"
      ]
     },
     "execution_count": 29,
     "metadata": {},
     "output_type": "execute_result"
    }
   ],
   "source": [
    "plt.figure(figsize = (10,8))\n",
    "\n",
    "sensor_name = 'sensor_49'\n",
    "val = StandardScaler().fit_transform(df[[sensor_name]].values)\n",
    "\n",
    "kernel = np.array([-1,1])\n",
    "val_diff = np.correlate(val.ravel(),kernel,mode='same')\n",
    "\n",
    "plt.plot(df.index,val,label = sensor_name)\n",
    "# plt.plot(df.index,val_diff,label = sensor_name + '_diff')\n",
    "\n",
    "idx = df[df.machine_status == 'BROKEN'].index\n",
    "for x in idx:\n",
    "    plt.axvline(x,ymax=12,linestyle='--',color='r')\n",
    "    \n",
    "plt.legend()\n"
   ]
  },
  {
   "cell_type": "code",
   "execution_count": 30,
   "metadata": {
    "execution": {
     "iopub.execute_input": "2021-04-02T11:36:15.869004Z",
     "iopub.status.busy": "2021-04-02T11:36:15.868671Z",
     "iopub.status.idle": "2021-04-02T11:36:15.948084Z",
     "shell.execute_reply": "2021-04-02T11:36:15.947356Z",
     "shell.execute_reply.started": "2021-04-02T11:36:15.868975Z"
    }
   },
   "outputs": [
    {
     "data": {
      "text/plain": [
       "timestamp\n",
       "2018-04-01 00:00:00    0.033060\n",
       "2018-04-01 00:01:00    0.033060\n",
       "2018-04-01 00:02:00    0.054667\n",
       "2018-04-01 00:03:00    0.063183\n",
       "2018-04-01 00:04:00    0.070372\n",
       "                         ...   \n",
       "2018-08-31 23:55:00    0.345040\n",
       "2018-08-31 23:56:00    0.344147\n",
       "2018-08-31 23:57:00    0.344443\n",
       "2018-08-31 23:58:00    0.331832\n",
       "2018-08-31 23:59:00    0.331240\n",
       "Length: 220320, dtype: float64"
      ]
     },
     "execution_count": 30,
     "metadata": {},
     "output_type": "execute_result"
    }
   ],
   "source": [
    "df.iloc[:,:-1].mean(axis=1)"
   ]
  },
  {
   "cell_type": "code",
   "execution_count": 31,
   "metadata": {
    "execution": {
     "iopub.execute_input": "2021-04-02T11:36:15.949058Z",
     "iopub.status.busy": "2021-04-02T11:36:15.948864Z",
     "iopub.status.idle": "2021-04-02T11:36:16.091187Z",
     "shell.execute_reply": "2021-04-02T11:36:16.090137Z",
     "shell.execute_reply.started": "2021-04-02T11:36:15.949038Z"
    }
   },
   "outputs": [
    {
     "data": {
      "application/vnd.jupyter.widget-view+json": {
       "model_id": "85dbf7c88f464bbea7ceb47566613e17",
       "version_major": 2,
       "version_minor": 0
      },
      "text/plain": [
       "Canvas(toolbar=Toolbar(toolitems=[('Home', 'Reset original view', 'home', 'home'), ('Back', 'Back to previous …"
      ]
     },
     "metadata": {},
     "output_type": "display_data"
    }
   ],
   "source": [
    "plt.figure(figsize = (16,8))\n",
    "plt.plot(df.iloc[:,:-1].mean(axis=1))\n",
    "idx = df[df.machine_status == 'BROKEN'].index\n",
    "for x in idx:\n",
    "    plt.axvline(x,ymax=12,linestyle='--',color='r')"
   ]
  },
  {
   "cell_type": "markdown",
   "metadata": {},
   "source": [
    "# Simple Model"
   ]
  },
  {
   "cell_type": "markdown",
   "metadata": {},
   "source": [
    " - simple thresholding based on standard deviation of signal.\n",
    " - sensor #4 seems like an ideal candidate BROKEN status is nearly always followed by a 3*sigma swing in signal values.\n",
    " - split timeseries into 2 parts, train and test. Use train set to calculate standard deviation (sigma)\n",
    " - Locate crossings of the threshold (only do it when derivative is negative).\n",
    " - will generate many false positives, ie Model says it is broken, yet it is actually in recovery phase.\n",
    " - on the plus side few false negatives (hopefully)\n",
    "\n",
    "\n",
    " \n",
    "     "
   ]
  },
  {
   "cell_type": "markdown",
   "metadata": {},
   "source": [
    "## Train phase:"
   ]
  },
  {
   "cell_type": "code",
   "execution_count": 58,
   "metadata": {
    "execution": {
     "iopub.execute_input": "2021-04-02T12:31:11.197497Z",
     "iopub.status.busy": "2021-04-02T12:31:11.197079Z",
     "iopub.status.idle": "2021-04-02T12:31:11.206612Z",
     "shell.execute_reply": "2021-04-02T12:31:11.205779Z",
     "shell.execute_reply.started": "2021-04-02T12:31:11.197447Z"
    }
   },
   "outputs": [],
   "source": [
    "def ThresholdCrossings(x):\n",
    "\n",
    "    ## Detect threshold crossings:\n",
    "    signal_sign_diff = np.diff(np.sign(signal_crossing))\n",
    "\n",
    "    #zero crossings, only checking for positive to negative\n",
    "    crossings = np.where(signal_sign_diff < 0,signal_sign_diff,0)\n",
    "    crossing_idx = crossings.nonzero()[0]\n",
    "\n",
    "    return crossing_idx\n",
    "\n",
    "def filter_signal(sensor_data):\n",
    "        \n",
    "    fft_data = np.fft.rfft(sensor_data)#,norm='ortho')\n",
    "    freqs = np.fft.rfftfreq(len(sensor_data))\n",
    "    spectrum = np.abs(fft_data)\n",
    "\n",
    "    filt_index = np.argmax(fft_data) + 200\n",
    "    filtered_fft = fft_data[:]\n",
    "    filtered_fft[filt_index:] = 0\n",
    "    filt_signal = np.fft.irfft(filtered_fft)\n",
    "    \n",
    "    return filt_signal"
   ]
  },
  {
   "cell_type": "code",
   "execution_count": 33,
   "metadata": {
    "execution": {
     "iopub.execute_input": "2021-04-02T11:36:16.113713Z",
     "iopub.status.busy": "2021-04-02T11:36:16.112094Z",
     "iopub.status.idle": "2021-04-02T11:36:16.249803Z",
     "shell.execute_reply": "2021-04-02T11:36:16.249212Z",
     "shell.execute_reply.started": "2021-04-02T11:36:16.113669Z"
    }
   },
   "outputs": [
    {
     "data": {
      "application/vnd.jupyter.widget-view+json": {
       "model_id": "094a1e80e4d44f1384585f32c84dac58",
       "version_major": 2,
       "version_minor": 0
      },
      "text/plain": [
       "Canvas(toolbar=Toolbar(toolitems=[('Home', 'Reset original view', 'home', 'home'), ('Back', 'Back to previous …"
      ]
     },
     "metadata": {},
     "output_type": "display_data"
    },
    {
     "data": {
      "text/plain": [
       "<matplotlib.legend.Legend at 0x7f758a322fa0>"
      ]
     },
     "execution_count": 33,
     "metadata": {},
     "output_type": "execute_result"
    }
   ],
   "source": [
    "## Split train / test\n",
    "split_idx = df.shape[0] // 2 \n",
    "\n",
    "sensor_name = 'sensor_04'\n",
    "signal = StandardScaler().fit_transform(df[[sensor_name]].values)\n",
    "signal = pd.Series(signal.ravel()).fillna(0)\n",
    "\n",
    "plt.figure(figsize=(10,8))\n",
    "\n",
    "plt.plot(df.index[:split_idx],signal.iloc[:split_idx],label = sensor_name)\n",
    "\n",
    "## Plot threshold\n",
    "sigma_train = signal.std()\n",
    "plt.hlines(-3*sigma_train, df.iloc[:split_idx].index[0], df.iloc[:split_idx].index[-1], colors='r', linestyles='--',label = 'threshhold')\n",
    "\n",
    "\n",
    "## Detect threshold crossings:\n",
    "signal_crossing = signal.iloc[:split_idx] + 3*sigma_train \n",
    "crossing_idx = ThresholdCrossings(signal_crossing)\n",
    "\n",
    "## Plot predictions\n",
    "for c in crossing_idx:\n",
    "    plt.axvline(df.index[c],ymax=12,linestyle='--',color='g')\n",
    "plt.plot([],[],linestyle='--',color='g',label = 'predicted locations')\n",
    "\n",
    "### Plot ground truth\n",
    "idx = df[df.machine_status == 'BROKEN'].index\n",
    "for x in idx[:-3]:\n",
    "    plt.axvline(x,ymax=12,linestyle='--',color='magenta')\n",
    "#dummy plot()\n",
    "plt.plot([],[],linestyle='--',color='magenta',label = 'groundtruth')\n",
    "\n",
    "plt.legend()\n"
   ]
  },
  {
   "cell_type": "markdown",
   "metadata": {},
   "source": [
    "### filtered version:"
   ]
  },
  {
   "cell_type": "code",
   "execution_count": 62,
   "metadata": {
    "execution": {
     "iopub.execute_input": "2021-04-02T12:32:17.715943Z",
     "iopub.status.busy": "2021-04-02T12:32:17.715508Z",
     "iopub.status.idle": "2021-04-02T12:32:17.851168Z",
     "shell.execute_reply": "2021-04-02T12:32:17.850655Z",
     "shell.execute_reply.started": "2021-04-02T12:32:17.715898Z"
    }
   },
   "outputs": [
    {
     "data": {
      "application/vnd.jupyter.widget-view+json": {
       "model_id": "fd632e6586ee4ef9a14015a773f74cef",
       "version_major": 2,
       "version_minor": 0
      },
      "text/plain": [
       "Canvas(toolbar=Toolbar(toolitems=[('Home', 'Reset original view', 'home', 'home'), ('Back', 'Back to previous …"
      ]
     },
     "metadata": {},
     "output_type": "display_data"
    },
    {
     "data": {
      "text/plain": [
       "<matplotlib.legend.Legend at 0x7f7579efae80>"
      ]
     },
     "execution_count": 62,
     "metadata": {},
     "output_type": "execute_result"
    }
   ],
   "source": [
    "## Split train / test\n",
    "split_idx = df.shape[0] // 2 \n",
    "\n",
    "sensor_name = 'sensor_04'\n",
    "signal = df[sensor_name].copy().fillna(0)\n",
    "signal -= signal.mean()\n",
    "signal = filter_signal(signal)\n",
    "signal = StandardScaler().fit_transform(signal.reshape(-1,1))\n",
    "signal = pd.Series(signal.ravel()).fillna(0)\n",
    "\n",
    "plt.figure(figsize=(10,8))\n",
    "\n",
    "plt.plot(df.index[:split_idx],signal.iloc[:split_idx],label = sensor_name)\n",
    "\n",
    "## Plot threshold\n",
    "sigma_train = signal.std()\n",
    "threshold_factor = 1\n",
    "plt.hlines(-threshold_factor*sigma_train, df.iloc[:split_idx].index[0], df.iloc[:split_idx].index[-1], colors='r', linestyles='--',label = 'threshhold')\n",
    "\n",
    "\n",
    "## Detect threshold crossings:\n",
    "signal_crossing = signal.iloc[:split_idx] + threshold_factor*sigma_train \n",
    "crossing_idx = ThresholdCrossings(signal_crossing)\n",
    "\n",
    "## Plot predictions\n",
    "for c in crossing_idx:\n",
    "    plt.axvline(df.index[c],ymax=12,linestyle='--',color='g')\n",
    "plt.plot([],[],linestyle='--',color='g',label = 'predicted locations')\n",
    "\n",
    "### Plot ground truth\n",
    "idx = df[df.machine_status == 'BROKEN'].index\n",
    "for x in idx[:-3]:\n",
    "    plt.axvline(x,ymax=12,linestyle='--',color='magenta')\n",
    "#dummy plot()\n",
    "plt.plot([],[],linestyle='--',color='magenta',label = 'groundtruth')\n",
    "\n",
    "plt.legend()\n"
   ]
  },
  {
   "cell_type": "markdown",
   "metadata": {},
   "source": [
    "## Test Phase:"
   ]
  },
  {
   "cell_type": "code",
   "execution_count": 64,
   "metadata": {
    "execution": {
     "iopub.execute_input": "2021-04-02T12:33:07.620591Z",
     "iopub.status.busy": "2021-04-02T12:33:07.620215Z",
     "iopub.status.idle": "2021-04-02T12:33:07.723548Z",
     "shell.execute_reply": "2021-04-02T12:33:07.723095Z",
     "shell.execute_reply.started": "2021-04-02T12:33:07.620549Z"
    }
   },
   "outputs": [
    {
     "data": {
      "application/vnd.jupyter.widget-view+json": {
       "model_id": "c72ef242169b45059a3e3a447ccf14f4",
       "version_major": 2,
       "version_minor": 0
      },
      "text/plain": [
       "Canvas(toolbar=Toolbar(toolitems=[('Home', 'Reset original view', 'home', 'home'), ('Back', 'Back to previous …"
      ]
     },
     "metadata": {},
     "output_type": "display_data"
    },
    {
     "data": {
      "text/plain": [
       "<matplotlib.legend.Legend at 0x7f7579c16220>"
      ]
     },
     "execution_count": 64,
     "metadata": {},
     "output_type": "execute_result"
    }
   ],
   "source": [
    "plt.figure(figsize=(10,8))\n",
    "\n",
    "plt.plot(df.index[split_idx:],signal.iloc[split_idx:],label = sensor_name)\n",
    "\n",
    "## Plot threshold\n",
    "plt.hlines(-threshold_factor*sigma_train, df.iloc[split_idx:].index[0], df.iloc[split_idx:].index[-1], colors='r', linestyles='--',label = 'threshhold')\n",
    "\n",
    "## Detect threshold crossings:\n",
    "signal_crossing = signal.iloc[split_idx:] + threshold_factor*sigma_train \n",
    "crossing_idx = ThresholdCrossings(signal_crossing)\n",
    "\n",
    "## Plot predictions\n",
    "for c in crossing_idx:\n",
    "    plt.axvline(df.iloc[split_idx:].index[c],ymax=12,linestyle='--',color='g')\n",
    "plt.plot([],[],linestyle='--',color='g',label = 'predicted locations')\n",
    "\n",
    "### Plot ground truth\n",
    "idx = df[df.machine_status == 'BROKEN'].index\n",
    "for x in idx[4:]:\n",
    "    plt.axvline(x,ymax=12,linestyle='--',color='magenta')\n",
    "#dummy plot()\n",
    "plt.plot([],[],linestyle='--',color='magenta',label = 'groundtruth')\n",
    "\n",
    "plt.legend()\n"
   ]
  },
  {
   "cell_type": "markdown",
   "metadata": {},
   "source": [
    "## TODO:"
   ]
  },
  {
   "cell_type": "markdown",
   "metadata": {},
   "source": [
    "    - quantify predictions \"accuracy\"\n",
    "    - Something similar to F1? Or Recall (minimize false negatives)\n",
    "    - improve threshold? dynamic thresholding by incorporating more sensor data?"
   ]
  },
  {
   "cell_type": "markdown",
   "metadata": {},
   "source": [
    "# Further ideas:"
   ]
  },
  {
   "cell_type": "markdown",
   "metadata": {},
   "source": [
    " - Filter signals\n",
    " - Use more of the sensors' data\n",
    " - Broken status seems to coincide with swings in signal values in many of the sensors. Use this for feature generation and then somhow try and aggregate them together.\n"
   ]
  },
  {
   "cell_type": "markdown",
   "metadata": {},
   "source": [
    "## Some questions:"
   ]
  },
  {
   "cell_type": "markdown",
   "metadata": {},
   "source": [
    " - How accurate in time do the predictions need to be? is it okay to be 5/15/30 minutes late? "
   ]
  },
  {
   "cell_type": "markdown",
   "metadata": {},
   "source": [
    "# Hidden Markov Model:"
   ]
  },
  {
   "cell_type": "code",
   "execution_count": 109,
   "metadata": {
    "execution": {
     "iopub.execute_input": "2021-04-02T20:38:01.123736Z",
     "iopub.status.busy": "2021-04-02T20:38:01.123360Z",
     "iopub.status.idle": "2021-04-02T20:38:04.205192Z",
     "shell.execute_reply": "2021-04-02T20:38:04.204244Z",
     "shell.execute_reply.started": "2021-04-02T20:38:01.123693Z"
    }
   },
   "outputs": [
    {
     "name": "stdout",
     "output_type": "stream",
     "text": [
      "['BROKEN' 'NORMAL']\n",
      "(array([0, 1]), array([ 14484, 205836]))\n",
      "unique values:  (array([0, 1]), array([ 27541, 192779]))\n"
     ]
    },
    {
     "data": {
      "application/vnd.jupyter.widget-view+json": {
       "model_id": "b9d7ab23e67d49a8ae750ded4364a764",
       "version_major": 2,
       "version_minor": 0
      },
      "text/plain": [
       "Canvas(toolbar=Toolbar(toolitems=[('Home', 'Reset original view', 'home', 'home'), ('Back', 'Back to previous …"
      ]
     },
     "metadata": {},
     "output_type": "display_data"
    }
   ],
   "source": [
    "sensor_name = 'sensor_04'\n",
    "signal = df[[sensor_name]].copy().fillna(0)#.rolling(3).mean().ffill().bfill()\n",
    "signal = signal.values\n",
    "\n",
    "model = hmm.GaussianHMM(n_components=2, n_iter=1000,random_state=31415,tol=1e-6)\n",
    "model.fit(signal)\n",
    "\n",
    "\n",
    "le = LabelEncoder()\n",
    "labels = df.machine_status.copy()\n",
    "labels = np.where(labels == 'RECOVERING' ,'BROKEN',labels)\n",
    "labels = le.fit_transform(labels)\n",
    "print(le.classes_)\n",
    "print(np.unique(labels,return_counts=True))\n",
    "\n",
    "eps = 1e-300\n",
    "# model.transmat_ = np.array([[1-eps ,eps ,eps],[eps,1-eps,eps],[eps,eps,1-eps]])\n",
    "model.transmat_ = np.array([[1-eps ,eps ],[eps,1-eps]])\n",
    "logprob,states = model.decode(signal)\n",
    "print('unique values: ',np.unique(states,return_counts=True))\n",
    "\n",
    "\n",
    "#scaling for plotting:\n",
    "scaled_signal = MinMaxScaler().fit_transform(signal.reshape(-1,1))\n",
    "scaled_labels = MinMaxScaler().fit_transform(labels.reshape(-1,1))\n",
    "scaled_states = MinMaxScaler().fit_transform(states.reshape(-1,1))\n",
    "\n",
    "fig,ax = plt.subplots(1,1,figsize = (13,5))\n",
    "ax.plot(scaled_signal,label = 'signal')\n",
    "ax.plot(scaled_labels,'r-', alpha=0.6, label = 'labels')\n",
    "ax.plot(scaled_states,'--', alpha=0.6, label = 'hidden states')\n",
    "ax.legend()\n",
    "fig.show()"
   ]
  },
  {
   "cell_type": "markdown",
   "metadata": {},
   "source": [
    "# Misc"
   ]
  },
  {
   "cell_type": "code",
   "execution_count": 35,
   "metadata": {
    "execution": {
     "iopub.execute_input": "2021-04-02T11:36:16.337489Z",
     "iopub.status.busy": "2021-04-02T11:36:16.337158Z",
     "iopub.status.idle": "2021-04-02T11:36:16.347285Z",
     "shell.execute_reply": "2021-04-02T11:36:16.346779Z",
     "shell.execute_reply.started": "2021-04-02T11:36:16.337464Z"
    }
   },
   "outputs": [
    {
     "name": "stdout",
     "output_type": "stream",
     "text": [
      "sign: [ 1  1  1  1 -1 -1  1  1  1  1 -1  1 -1  1  1  1 -1]\n",
      "sign diff: [ 0  0  0 -2  0  2  0  0  0 -2  2 -2  2  0  0 -2]\n",
      "crossings: [ 0  0  0 -2  0  0  0  0  0 -2  0 -2  0  0  0 -2]\n",
      "where (array([ 3,  5,  9, 10, 11, 12, 15]),)\n",
      "crossover indices (array([ 3,  9, 11, 15]),)\n"
     ]
    }
   ],
   "source": [
    "## TEsting zero crossing detection:\n",
    "\n",
    "a = [1, 2, 1, 1, -3, -4, 7, 8, 9, 10, -2, 1, -3, 5, 6, 7, -10]\n",
    "\n",
    "a_sign_diff = np.diff(np.sign(a))\n",
    "#zero crossings, only checking for positive to negative\n",
    "crossings = np.where(a_sign_diff < 0,a_sign_diff,0)\n",
    "crossing_idx = crossings.nonzero()\n",
    "\n",
    "print('sign:', np.sign(a))\n",
    "print('sign diff:', np.diff(np.sign(a)))\n",
    "print('crossings:', crossings,)\n",
    "\n",
    "print('where', np.where(np.diff(np.sign(a))))\n",
    "print('crossover indices', crossing_idx ) \n",
    "\n",
    "\n",
    "# zero_crossings = numpy.where(numpy.diff(numpy.sign(a)))[0]\n"
   ]
  },
  {
   "cell_type": "code",
   "execution_count": null,
   "metadata": {},
   "outputs": [],
   "source": []
  }
 ],
 "metadata": {
  "kernelspec": {
   "display_name": "Python 3",
   "language": "python",
   "name": "python3"
  },
  "language_info": {
   "codemirror_mode": {
    "name": "ipython",
    "version": 3
   },
   "file_extension": ".py",
   "mimetype": "text/x-python",
   "name": "python",
   "nbconvert_exporter": "python",
   "pygments_lexer": "ipython3",
   "version": "3.8.5"
  },
  "toc-autonumbering": true
 },
 "nbformat": 4,
 "nbformat_minor": 4
}
