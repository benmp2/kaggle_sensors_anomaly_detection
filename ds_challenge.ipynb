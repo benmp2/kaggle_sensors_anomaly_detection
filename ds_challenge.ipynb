{
 "cells": [
  {
   "cell_type": "markdown",
   "metadata": {},
   "source": [
    "# Description from kaggle:"
   ]
  },
  {
   "cell_type": "markdown",
   "metadata": {},
   "source": [
    "**TODO: SPELLING**\n",
    "\n",
    "**Problem:**\n",
    "\n",
    "<i>\"I have a friend who working in a small team that taking care of water pump of a small area far from big town, there are 7 system failure in last year. Those failure cause huge problem to many people and also lead to some serious living problem of some family. The team can't see any pattern in the data when the system goes down, so they are not sure where to put more attention.\n",
    "\n",
    "Since I believe in using data to solve problem, I ask him to provide available sensor data and hope that someone here can help.\"</i>\n",
    "\n",
    "**Data:**\n",
    "\n",
    "<i>\"The data are from all available sensor, all of them are raw value. Total sensor are 52 unit.\"</i>\n",
    "\n",
    "Source: https://www.kaggle.com/nphantawee/pump-sensor-data\n"
   ]
  },
  {
   "cell_type": "markdown",
   "metadata": {},
   "source": [
    "# Imports:"
   ]
  },
  {
   "cell_type": "code",
   "execution_count": 2,
   "metadata": {
    "execution": {
     "iopub.execute_input": "2021-06-12T21:59:49.486501Z",
     "iopub.status.busy": "2021-06-12T21:59:49.486218Z",
     "iopub.status.idle": "2021-06-12T21:59:49.491812Z",
     "shell.execute_reply": "2021-06-12T21:59:49.490720Z",
     "shell.execute_reply.started": "2021-06-12T21:59:49.486474Z"
    },
    "tags": []
   },
   "outputs": [],
   "source": [
    "import datetime\n",
    "import pandas as pd\n",
    "import numpy as np\n",
    "\n",
    "import matplotlib.pyplot as plt\n",
    "import seaborn as sns\n",
    "from sklearn.preprocessing import StandardScaler,MinMaxScaler,LabelEncoder,power_transform\n",
    "from hmmlearn import hmm\n",
    "\n",
    "from plotly.subplots import make_subplots\n",
    "import plotly.graph_objects as go\n",
    "\n",
    "# # %matplotlib notebook\n",
    "# %matplotlib widget"
   ]
  },
  {
   "cell_type": "markdown",
   "metadata": {},
   "source": [
    "# Load data:"
   ]
  },
  {
   "cell_type": "code",
   "execution_count": 3,
   "metadata": {
    "execution": {
     "iopub.execute_input": "2021-06-12T21:59:51.582127Z",
     "iopub.status.busy": "2021-06-12T21:59:51.581858Z",
     "iopub.status.idle": "2021-06-12T21:59:51.592706Z",
     "shell.execute_reply": "2021-06-12T21:59:51.591599Z",
     "shell.execute_reply.started": "2021-06-12T21:59:51.582103Z"
    },
    "tags": []
   },
   "outputs": [
    {
     "name": "stdout",
     "output_type": "stream",
     "text": [
      ",timestamp,sensor_00,sensor_01,sensor_02,sensor_03,sensor_04,sensor_05,sensor_06,sensor_07,sensor_08,sensor_09,sensor_10,sensor_11,sensor_12,sensor_13,sensor_14,sensor_15,sensor_16,sensor_17,sensor_18,sensor_19,sensor_20,sensor_21,sensor_22,sensor_23,sensor_24,sensor_25,sensor_26,sensor_27,sensor_28,sensor_29,sensor_30,sensor_31,sensor_32,sensor_33,sensor_34,sensor_35,sensor_36,sensor_37,sensor_38,sensor_39,sensor_40,sensor_41,sensor_42,sensor_43,sensor_44,sensor_45,sensor_46,sensor_47,sensor_48,sensor_49,sensor_50,sensor_51,machine_status\n",
      "\n",
      "0,2018-04-01 00:00:00,2.465394,47.092009999999995,53.2118,46.310759999999995,634.375,76.45975,13.41146,16.13136,15.567129999999999,15.053529999999999,37.2274,47.52422,31.11716,1.6813529999999999,419.5747,,461.8781,466.3284,2.565284,665.3993,398.9862,880.0001,498.8926,975.9409,627.674,741.7151,848.0708,429.0377,785.1935,684.9443,594.4445,682.8125,680.4416,433.7037,171.9375,341.9039,195.0655,90.32386,40.36458,31.51042,70.57291,30.98958,31.770832061767603,41.92708,39.6412,65.68287,50.92593,38.19444,157.9861,67.70834,243.0556,201.3889,NORMAL\n",
      "\n"
     ]
    }
   ],
   "source": [
    "#the first few lines of the csv:\n",
    "with open('sensor.csv','r') as f:\n",
    "    for i,line in enumerate(f):\n",
    "        if i == 2: break\n",
    "        print(line)\n",
    "    "
   ]
  },
  {
   "cell_type": "code",
   "execution_count": null,
   "metadata": {
    "execution": {
     "iopub.status.busy": "2021-06-12T21:58:10.211084Z",
     "iopub.status.idle": "2021-06-12T21:58:10.211343Z",
     "shell.execute_reply": "2021-06-12T21:58:10.211218Z"
    }
   },
   "outputs": [],
   "source": [
    "# load csv into pandas dataframe:\n",
    "dateparse = lambda x: datetime.datetime.strptime(x, '%Y-%m-%d %H:%M:%S')\n",
    "df = pd.read_csv('sensor.csv',sep=',',parse_dates=['timestamp'], date_parser=dateparse)\n",
    "df = df.drop(df.columns[0], axis=1)\n",
    "df = df.set_index('timestamp')\n",
    "print('df.shape',df.shape)\n",
    "df.head()"
   ]
  },
  {
   "cell_type": "code",
   "execution_count": null,
   "metadata": {
    "execution": {
     "iopub.status.busy": "2021-06-12T21:58:10.212301Z",
     "iopub.status.idle": "2021-06-12T21:58:10.212564Z",
     "shell.execute_reply": "2021-06-12T21:58:10.212443Z"
    }
   },
   "outputs": [],
   "source": [
    "df.describe()"
   ]
  },
  {
   "cell_type": "markdown",
   "metadata": {},
   "source": [
    "# Exploring the data:"
   ]
  },
  {
   "cell_type": "markdown",
   "metadata": {},
   "source": [
    "### Investigating potential clusters with the correlation matrix:"
   ]
  },
  {
   "cell_type": "code",
   "execution_count": null,
   "metadata": {
    "execution": {
     "iopub.status.busy": "2021-06-12T21:58:10.214147Z",
     "iopub.status.idle": "2021-06-12T21:58:10.214709Z",
     "shell.execute_reply": "2021-06-12T21:58:10.214436Z"
    }
   },
   "outputs": [],
   "source": [
    "#Copied from: https://seaborn.pydata.org/examples/many_pairwise_correlations.html\n",
    "\n",
    "# Compute the correlation matrix\n",
    "corr = df.corr()\n",
    "\n",
    "# Generate a mask for the upper triangle\n",
    "mask = np.triu(np.ones_like(corr, dtype=np.bool))\n",
    "\n",
    "# Set up the matplotlib figure\n",
    "f, ax = plt.subplots(figsize=(11, 9))\n",
    "\n",
    "# Generate a custom diverging colormap\n",
    "cmap = sns.diverging_palette(220, 10, as_cmap=True)\n",
    "\n",
    "# Draw the heatmap with the mask and correct aspect ratio\n",
    "sns.heatmap(corr, mask=mask, cmap=cmap, vmax=.3, center=0,\n",
    "            square=True, linewidths=.5, cbar_kws={\"shrink\": .5})\n",
    "f.show()"
   ]
  },
  {
   "cell_type": "markdown",
   "metadata": {},
   "source": [
    " - Initially nothing majorly correlated, but there do seem to be groupings of sorts"
   ]
  },
  {
   "cell_type": "markdown",
   "metadata": {},
   "source": [
    "### Visualize groupings seen in correlation matrix:"
   ]
  },
  {
   "cell_type": "markdown",
   "metadata": {},
   "source": [
    "#### Functions:"
   ]
  },
  {
   "cell_type": "code",
   "execution_count": null,
   "metadata": {
    "execution": {
     "iopub.status.busy": "2021-06-12T21:58:10.216213Z",
     "iopub.status.idle": "2021-06-12T21:58:10.216542Z",
     "shell.execute_reply": "2021-06-12T21:58:10.216372Z"
    }
   },
   "outputs": [],
   "source": [
    "def generate_plotly_timeseries(df: pd.DataFrame, sensor_ids: range) -> go.Figure: \n",
    "    \n",
    "    fig = make_subplots(rows=len(sensor_ids), cols=1,\n",
    "                        shared_xaxes='columns',\n",
    "                        subplot_titles=[f'sensor_{i:02d}' for i in sensor_ids],\n",
    "                        specs=[[{\"type\": \"scatter\"}] for x in sensor_ids]\n",
    "                       )\n",
    "    \n",
    "    for i in sensor_ids:\n",
    "        \n",
    "        sensor_name = f'sensor_{i:02d}'\n",
    "        # plotly subplot row count can ponly start from 1\n",
    "        if sensor_ids.start == 0:\n",
    "            i+=1\n",
    "        else:\n",
    "            # +1 to start rowcount from 1\n",
    "            i = (i % sensor_ids.start) + 1 \n",
    "        \n",
    "        if sensor_name in df.columns:\n",
    "            \n",
    "            data = df[sensor_name]\n",
    "            fig.add_scatter(\n",
    "                x=data.index,\n",
    "                y=data,\n",
    "                name=sensor_name,\n",
    "                showlegend=True,\n",
    "                row=i, col=1\n",
    "            )\n",
    "    \n",
    "    #Adding broken status: \n",
    "    for date in df[df.machine_status=='BROKEN'].machine_status.index:\n",
    "        fig.add_vline(x=date,\n",
    "                      row='all',\n",
    "                      line=dict(dash='dash',color='rgba(0, 0, 0, 0.6)', width=2)\n",
    "                     )\n",
    "    \n",
    "    return fig"
   ]
  },
  {
   "cell_type": "markdown",
   "metadata": {},
   "source": [
    "#### Generating sensor timeseries as a subplot:\n",
    "- based on the groupings seen in the correlation matrix\n",
    "- using plotly for interactive plots (runtime is about 3-5 minutes)"
   ]
  },
  {
   "cell_type": "code",
   "execution_count": null,
   "metadata": {
    "execution": {
     "iopub.status.busy": "2021-06-12T21:58:10.218003Z",
     "iopub.status.idle": "2021-06-12T21:58:10.218382Z",
     "shell.execute_reply": "2021-06-12T21:58:10.218216Z"
    }
   },
   "outputs": [],
   "source": [
    "sensor_ranges = [range(0,14),\n",
    "                 range(14,37),\n",
    "                 range(36,38),\n",
    "                 range(38,52),\n",
    "                ]\n",
    "for sensor_ids in sensor_ranges:\n",
    "\n",
    "    fig = generate_plotly_timeseries(df,sensor_ids)\n",
    "    fig.update_layout(height=1200, width=1200, template='plotly_white')#, title_text=\"Side By Side Subplots\")\n",
    "\n",
    "    # Large interactive plotly charts using fig.show() can lead to excess ram consumption for jupyter, writing to html file instead.\n",
    "    # fig.show()\n",
    "\n",
    "    fig.write_html(f'./plotly_charts/sensor_timeseries_subplot_{sensor_ids.start}-{sensor_ids.stop-1}')\n"
   ]
  },
  {
   "cell_type": "code",
   "execution_count": null,
   "metadata": {},
   "outputs": [],
   "source": []
  },
  {
   "cell_type": "markdown",
   "metadata": {},
   "source": [
    "### Identify and drop sparse columns\n",
    "\n",
    "- if there are missing values more than 1 pct of the time then drop those columns \\\n",
    "this might need to be tweeked, but lets see how it spans out:\n"
   ]
  },
  {
   "cell_type": "code",
   "execution_count": null,
   "metadata": {
    "execution": {
     "iopub.status.busy": "2021-06-12T21:58:10.220004Z",
     "iopub.status.idle": "2021-06-12T21:58:10.220574Z",
     "shell.execute_reply": "2021-06-12T21:58:10.220388Z"
    }
   },
   "outputs": [],
   "source": [
    "print('original df shape',df.shape)\n",
    "x = df.isna().sum()\n",
    "\n",
    "# if there are missing values more than 1 pct of the time then drop those columns\n",
    "# this might need to be tweeked, but lets see how it spans out:\n",
    "threshold = df.shape[0]*0.01\n",
    "nan_cols = x[x>threshold].index\n",
    "df = df.drop(labels=nan_cols,axis=1)\n",
    "\n",
    "print('dropped cols: ', nan_cols.values)\n",
    "print('df after dropping',df.shape)\n",
    "print('Remaining missing data:')\n",
    "\n",
    "for i,element in enumerate(zip(df.isna().sum().index,df.isna().sum())):\n",
    "    idx,val = element\n",
    "    if (i % 8) == 0 and i > 0:\n",
    "        print()\n",
    "    print(f'{idx}: {val}',end ='\\t')\n",
    "\n",
    "fig,ax=plt.subplots(1,1,figsize=(12,5))\n",
    "df.isna().sum().plot(kind='bar',ax=ax)\n",
    "ax.set_ylabel('# of missing entries')\n",
    "fig.show()"
   ]
  },
  {
   "cell_type": "markdown",
   "metadata": {},
   "source": [
    "### Standardize / normalize values of each timeseries:"
   ]
  },
  {
   "cell_type": "code",
   "execution_count": null,
   "metadata": {
    "execution": {
     "iopub.status.busy": "2021-06-12T21:58:10.221547Z",
     "iopub.status.idle": "2021-06-12T21:58:10.221856Z",
     "shell.execute_reply": "2021-06-12T21:58:10.221698Z"
    }
   },
   "outputs": [],
   "source": [
    "# df.fillna()"
   ]
  },
  {
   "cell_type": "code",
   "execution_count": null,
   "metadata": {
    "execution": {
     "iopub.status.busy": "2021-06-12T21:58:10.223228Z",
     "iopub.status.idle": "2021-06-12T21:58:10.223668Z",
     "shell.execute_reply": "2021-06-12T21:58:10.223462Z"
    }
   },
   "outputs": [],
   "source": [
    "## Optionally do it for all sensors:\n",
    "#####\n",
    "df.iloc[:,:-1] = StandardScaler().fit_transform(df.iloc[:,:-1])\n"
   ]
  },
  {
   "cell_type": "markdown",
   "metadata": {},
   "source": [
    "### Misc:"
   ]
  },
  {
   "cell_type": "code",
   "execution_count": null,
   "metadata": {
    "execution": {
     "iopub.status.busy": "2021-06-12T21:58:10.224530Z",
     "iopub.status.idle": "2021-06-12T21:58:10.224868Z",
     "shell.execute_reply": "2021-06-12T21:58:10.224726Z"
    }
   },
   "outputs": [],
   "source": [
    "print(df.shape)\n",
    "list(zip(df.isna().sum(),df.dtypes))"
   ]
  },
  {
   "cell_type": "markdown",
   "metadata": {},
   "source": [
    "# Init data exploration:"
   ]
  },
  {
   "cell_type": "code",
   "execution_count": null,
   "metadata": {
    "execution": {
     "iopub.status.busy": "2021-06-12T21:58:10.225863Z",
     "iopub.status.idle": "2021-06-12T21:58:10.226159Z",
     "shell.execute_reply": "2021-06-12T21:58:10.226020Z"
    }
   },
   "outputs": [],
   "source": [
    "df.columns"
   ]
  },
  {
   "cell_type": "markdown",
   "metadata": {},
   "source": [
    "### How are the labels distributed?"
   ]
  },
  {
   "cell_type": "code",
   "execution_count": null,
   "metadata": {
    "execution": {
     "iopub.status.busy": "2021-06-12T21:58:10.227583Z",
     "iopub.status.idle": "2021-06-12T21:58:10.228015Z",
     "shell.execute_reply": "2021-06-12T21:58:10.227855Z"
    }
   },
   "outputs": [],
   "source": [
    "display(df.machine_status.value_counts())\n",
    "print('\\n\\nThe same in percentages :')\n",
    "df.machine_status.value_counts(normalize=True)*100\n"
   ]
  },
  {
   "cell_type": "markdown",
   "metadata": {},
   "source": [
    " - Broken status is extremely rare it only occurs 0.003% of the time!\n",
    " - Initial thoughts are to try and visually demontrate how a broken status happens on a device and try and figure out a pattern.\n",
    " - I think a standard ML will struggle to identify broken status on such an unbalanced dataset"
   ]
  },
  {
   "cell_type": "code",
   "execution_count": null,
   "metadata": {
    "execution": {
     "iopub.status.busy": "2021-06-12T21:58:10.229072Z",
     "iopub.status.idle": "2021-06-12T21:58:10.229332Z",
     "shell.execute_reply": "2021-06-12T21:58:10.229213Z"
    }
   },
   "outputs": [],
   "source": [
    "df[df.machine_status == 'BROKEN'].isna().sum(axis=1)"
   ]
  },
  {
   "cell_type": "markdown",
   "metadata": {},
   "source": [
    " -  Whenever machine_status == 'BROKEN' there does seems to be incoming data!"
   ]
  },
  {
   "cell_type": "markdown",
   "metadata": {},
   "source": [
    "### Are 'BROKEN' labels always followed by 'RECOVERING' and preceded by 'Normal'?"
   ]
  },
  {
   "cell_type": "code",
   "execution_count": null,
   "metadata": {
    "execution": {
     "iopub.status.busy": "2021-06-12T21:58:10.230474Z",
     "iopub.status.idle": "2021-06-12T21:58:10.230799Z",
     "shell.execute_reply": "2021-06-12T21:58:10.230687Z"
    }
   },
   "outputs": [],
   "source": [
    "idx = df[df.machine_status == 'BROKEN'].index\n",
    "\n",
    "# dt = 2400\n",
    "dt_m = 30\n",
    "dt_p = 1000\n",
    "df_labels= df[['machine_status']].copy()\n",
    "print(df_labels.shape)\n",
    "\n",
    "encoder = LabelEncoder().fit(df_labels[['machine_status']])\n",
    "print(encoder.classes_)\n",
    "\n",
    "df_labels['machine_status'] = encoder.transform(df_labels[['machine_status']])\n",
    "\n",
    "df_labels.head()\n",
    "\n",
    "fig,ax = plt.subplots(7,1,figsize=(10,8))\n",
    "fig.tight_layout()\n",
    "\n",
    "for i,x in enumerate(idx):    \n",
    "    \n",
    "    t_m_dt = x - datetime.timedelta(minutes = dt_m)\n",
    "    t_p_dt = x + datetime.timedelta(minutes = dt_p)\n",
    "    \n",
    "    df_plot = df_labels.loc[t_m_dt:t_p_dt,['machine_status']].copy()\n",
    "\n",
    "    ax[i].plot(df_plot,label=x)\n",
    "    ax[i].axvline(idx[i],linestyle='--',color='r')\n",
    "    ax[i].set_title(f'incident #{i} time evolution')\n",
    "    ax[i].legend()\n",
    "    ax[i].grid()"
   ]
  },
  {
   "cell_type": "code",
   "execution_count": null,
   "metadata": {
    "execution": {
     "iopub.status.busy": "2021-06-12T21:58:10.231988Z",
     "iopub.status.idle": "2021-06-12T21:58:10.232349Z",
     "shell.execute_reply": "2021-06-12T21:58:10.232192Z"
    }
   },
   "outputs": [],
   "source": [
    "shifted = df_labels.machine_status.shift(-1)\n",
    "orig = df_labels.machine_status\n",
    "\n",
    "condition = (orig !=2) & (shifted == 2)\n",
    "np.where(condition,1,0).sum()"
   ]
  },
  {
   "cell_type": "markdown",
   "metadata": {},
   "source": [
    "### How does a particular sensor behave around the machine_status == 'broken' timestamps?"
   ]
  },
  {
   "cell_type": "code",
   "execution_count": null,
   "metadata": {
    "execution": {
     "iopub.status.busy": "2021-06-12T21:58:10.233672Z",
     "iopub.status.idle": "2021-06-12T21:58:10.233996Z",
     "shell.execute_reply": "2021-06-12T21:58:10.233882Z"
    }
   },
   "outputs": [],
   "source": [
    "\n",
    "idx = df[df.machine_status == 'BROKEN'].index\n",
    "\n",
    "dt = 200\n",
    "sensor= 'sensor_04'\n",
    "fig,ax = plt.subplots(7,1,figsize=(10,15))\n",
    "fig.tight_layout()\n",
    "for i,x in enumerate(idx):    \n",
    "    \n",
    "    t_m_dt = x - datetime.timedelta(minutes = dt)\n",
    "    t_p_dt = x + datetime.timedelta(minutes = dt)\n",
    "    \n",
    "    df_plot = df.loc[t_m_dt:t_p_dt,[sensor]].copy()\n",
    "\n",
    "    ax[i].plot(df_plot,label=x)\n",
    "    ax[i].axvline(idx[i],linestyle='--',color='r')\n",
    "    ax[i].set_title(f'incident #{i} on {sensor}')\n",
    "    ax[i].legend()\n",
    "    ax[i].grid()\n",
    "\n",
    "\n",
    "    "
   ]
  },
  {
   "cell_type": "markdown",
   "metadata": {},
   "source": [
    "### How does each sensor behave in relation to other sensors during a Broken status?\n",
    " "
   ]
  },
  {
   "cell_type": "code",
   "execution_count": null,
   "metadata": {
    "execution": {
     "iopub.status.busy": "2021-06-12T21:58:10.235704Z",
     "iopub.status.idle": "2021-06-12T21:58:10.236176Z",
     "shell.execute_reply": "2021-06-12T21:58:10.235895Z"
    }
   },
   "outputs": [],
   "source": [
    "# one sensor\n",
    "\n",
    "idx = df[df.machine_status == 'BROKEN'].index\n",
    "\n",
    "dt = 30\n",
    "t_m_dt = idx[0] - datetime.timedelta(minutes = dt)\n",
    "t_p_dt = idx[0] + datetime.timedelta(minutes = dt)\n",
    "\n",
    "df_plot = df.loc[t_m_dt:t_p_dt,:].copy()\n",
    "df_plot = df_plot.iloc[:,:-1]\n",
    "df_plot.iloc[:,:] = StandardScaler().fit_transform(df_plot)\n",
    "# display(df_plot.columns)\n",
    "\n",
    "### Make plots:\n",
    "# fig,ax = plt.subplots(nrows=7,ncols=7,figsize=(10,5))\n",
    "fig,ax = plt.subplots(nrows=1,ncols=1,figsize=(10,5))\n",
    "# fig.tight_layout()\n",
    "\n",
    "sensor= 'sensor_01'\n",
    "ax.plot(df_plot[[sensor]],'b-o',label= 'sensor')\n",
    "ax.axvline(idx[0],linestyle='--',color='r',label = str(idx[0]))\n",
    "\n",
    "rest = [x for x in df_plot.columns if x != sensor]\n",
    "for s in rest:\n",
    "    ax.plot(df_plot[[s]],'-',color='lightgrey',alpha=0.3)\n",
    "\n",
    "#dummy for legend:\n",
    "ax.plot([],[],'-',color='lightgrey',alpha=0.3,label='rest of sensors')\n",
    "\n",
    "ax.set_title(sensor)\n",
    "ax.legend(loc='upper left')\n",
    "\n"
   ]
  },
  {
   "cell_type": "code",
   "execution_count": null,
   "metadata": {
    "execution": {
     "iopub.status.busy": "2021-06-12T21:58:10.237779Z",
     "iopub.status.idle": "2021-06-12T21:58:10.238097Z",
     "shell.execute_reply": "2021-06-12T21:58:10.237953Z"
    }
   },
   "outputs": [],
   "source": [
    "# all sensors\n",
    "\n",
    "idx = df[df.machine_status == 'BROKEN'].index\n",
    "incident = idx[2]\n",
    "\n",
    "dt = 120\n",
    "t_m_dt = incident - datetime.timedelta(minutes = dt)\n",
    "t_p_dt = incident + datetime.timedelta(minutes = dt)\n",
    "# t_m_dt = incident - datetime.timedelta(hours = dt)\n",
    "# t_p_dt = incident + datetime.timedelta(hours = dt)\n",
    "\n",
    "\n",
    "\n",
    "df_plot = df.loc[t_m_dt:t_p_dt,:].copy()\n",
    "df_plot = df_plot.iloc[:,:-1]\n",
    "df_plot.iloc[:,:] = StandardScaler().fit_transform(df_plot)\n",
    "# display(df_plot.columns)\n",
    "\n",
    "### Make plots:\n",
    "n_rows = 9\n",
    "n_cols = 5\n",
    "\n",
    "fig,ax = plt.subplots(nrows=n_rows,ncols=n_cols,figsize=(12,14), sharex=True, sharey=True)\n",
    "# fig.tight_layout()\n",
    "\n",
    "for i,sensor in enumerate(df_plot.columns):\n",
    "    \n",
    "    row= i // n_cols\n",
    "    col= i % n_cols\n",
    "#     print(row,col,i,sensor)\n",
    "\n",
    "#     rest = [x for x in df_plot.columns if x != sensor]\n",
    "#     for s in rest:\n",
    "#         ax[row][col].plot(df_plot[[s]],'-',color='lightgrey',alpha=0.3)\n",
    "\n",
    "    ax[row][col].plot(df_plot[[sensor]],'b.',label= f'{sensor} row{row},col{col} ',alpha=0.3)\n",
    "    ax[row][col].axvline(incident,linestyle='--',color='r',label = 'ts of incident')\n",
    "    ax[row][col].set_title(sensor)\n",
    "    \n",
    "    #dummy plot\n",
    "    ax[row][col].plot([],[],'-',color='lightgrey',alpha=0.3,label='rest of sensors')\n",
    "    ax[row][col].tick_params(labelrotation=45)\n",
    "\n",
    "ax[-1][-1].tick_params(labelrotation=45)\n",
    "fig.suptitle(f'Broken incident timestamp {idx[-1]} \\n')\n",
    "fig.tight_layout()\n"
   ]
  },
  {
   "cell_type": "markdown",
   "metadata": {},
   "source": [
    " - Similar to the correlation plot there seem to be underlying groupings in the sensors. For example the sensors 1-13 , 14-36/37 and 38-49 exhibit \"similar\" patterns."
   ]
  },
  {
   "cell_type": "markdown",
   "metadata": {},
   "source": [
    "### Plots:"
   ]
  },
  {
   "cell_type": "code",
   "execution_count": null,
   "metadata": {
    "execution": {
     "iopub.status.busy": "2021-06-12T21:58:10.240771Z",
     "iopub.status.idle": "2021-06-12T21:58:10.241099Z",
     "shell.execute_reply": "2021-06-12T21:58:10.240953Z"
    }
   },
   "outputs": [],
   "source": [
    "df.columns"
   ]
  },
  {
   "cell_type": "markdown",
   "metadata": {},
   "source": [
    "#### Taking a look at an individual timeseries:"
   ]
  },
  {
   "cell_type": "code",
   "execution_count": null,
   "metadata": {
    "execution": {
     "iopub.status.busy": "2021-06-12T21:58:10.242154Z",
     "iopub.status.idle": "2021-06-12T21:58:10.242564Z",
     "shell.execute_reply": "2021-06-12T21:58:10.242377Z"
    }
   },
   "outputs": [],
   "source": [
    "plt.figure(figsize = (10,8))\n",
    "\n",
    "sensor_name = 'sensor_04'\n",
    "# sensor_name = 'sensor_41'\n",
    "val = StandardScaler().fit_transform(df[[sensor_name]].values)\n",
    "val = pd.Series(val.ravel()).fillna(0)\n",
    "val = val.rolling(window=60,center=True).median()\n",
    "\n",
    "print(df.index.shape)\n",
    "print(val.shape)\n",
    "\n",
    "plt.plot(df.index,val,label = sensor_name)\n",
    "\n",
    "idx = df[df.machine_status == 'BROKEN'].index\n",
    "for x in idx:\n",
    "    plt.axvline(x,ymax=12,linestyle='--',color='r')\n",
    "    \n",
    "# idx = df[df.machine_status == 'RECOVERING'].index[5::30]\n",
    "# for x in idx:\n",
    "#     plt.axvline(x,ymax=12,linestyle='--',color='g')\n",
    "    \n",
    "m = pd.Series(val.ravel()).fillna(0).mean()\n",
    "s = pd.Series(val.ravel()).fillna(0).std()\n",
    "print(m,s)\n",
    "\n",
    "plt.hlines(m-3*s, df.index[0], df.index[-1], colors='r', linestyles='--')\n",
    "# plt.hlines(df.index,[ for x in range(len(val))],'--',label='3 sigma')\n",
    "plt.legend()\n"
   ]
  },
  {
   "cell_type": "markdown",
   "metadata": {},
   "source": [
    "#### FFT spectrum:"
   ]
  },
  {
   "cell_type": "code",
   "execution_count": null,
   "metadata": {
    "execution": {
     "iopub.status.busy": "2021-06-12T21:58:10.243763Z",
     "iopub.status.idle": "2021-06-12T21:58:10.244160Z",
     "shell.execute_reply": "2021-06-12T21:58:10.243959Z"
    }
   },
   "outputs": [],
   "source": [
    "# TODO\n",
    "sensor_name = 'sensor_04'\n",
    "# sensor_name = 'sensor_05'\n",
    "# sensor_name = 'sensor_13'\n",
    "sensor_data = df[sensor_name].copy().fillna(0).values\n",
    "sensor_data -= np.mean(sensor_data)\n",
    "\n",
    "fft_data = np.fft.rfft(sensor_data)#,norm='ortho')\n",
    "freqs = np.fft.rfftfreq(len(sensor_data))\n",
    "spectrum = np.abs(fft_data)\n",
    "\n",
    "filt_index = np.argmax(fft_data) + 200\n",
    "filtered_fft = fft_data[:]\n",
    "filtered_fft[filt_index:] = 0\n",
    "filt_signal = np.fft.irfft(filtered_fft)\n",
    "\n",
    "fig,ax = plt.subplots(2,1,figsize=(12,8))\n",
    "ax[0].plot(freqs,spectrum)\n",
    "ax[0].set_xlim(-0.0001,0.005)\n",
    "ax[1].plot(df.index,sensor_data)\n",
    "ax[1].plot(df.index,filt_signal)\n",
    "\n",
    "idx = df[df.machine_status == 'BROKEN'].index\n",
    "for x in idx:\n",
    "    plt.axvline(x,ymax=12,linestyle='--',color='r')\n",
    "\n",
    "m= sensor_data.mean()\n",
    "s= sensor_data.std()\n",
    "ax[1].hlines(m-1*s, df.index[0], df.index[-1], colors='r', linestyles='--')\n",
    "\n",
    "for axis in ax:\n",
    "    axis.grid()\n",
    "fig.show()"
   ]
  },
  {
   "cell_type": "markdown",
   "metadata": {},
   "source": [
    "#### Testing spectral residual idea:"
   ]
  },
  {
   "cell_type": "code",
   "execution_count": null,
   "metadata": {
    "execution": {
     "iopub.status.busy": "2021-06-12T21:58:10.245875Z",
     "iopub.status.idle": "2021-06-12T21:58:10.246224Z",
     "shell.execute_reply": "2021-06-12T21:58:10.246081Z"
    }
   },
   "outputs": [],
   "source": [
    "#more on this: https://arxiv.org/pdf/1906.03821.pdf\n",
    "# and here: http://citeseerx.ist.psu.edu/viewdoc/download?doi=10.1.1.125.5641&rep=rep1&type=pdf\n",
    "\n",
    "plt.figure(figsize = (10,8))\n",
    "\n",
    "sensor_name = 'sensor_04'\n",
    "val = StandardScaler().fit_transform(df[[sensor_name]].values)\n",
    "val = pd.Series(val.ravel()).fillna(0)\n",
    "val = val.rolling(window=60,center=True).median()\n",
    "\n",
    "# plt.plot(df.index,val,label = sensor_name)\n",
    "\n",
    "idx = df[df.machine_status == 'BROKEN'].index\n",
    "for x in idx:\n",
    "    plt.axvline(x,ymax=12,linestyle='--',color='r')\n",
    "\n",
    "#### Spectral residual:\n",
    "sr_ts = df[sensor_name].copy().fillna(0).values\n",
    "sr_ts -= sr_ts.mean()\n",
    "print(sr_ts)\n",
    "\n",
    "fft = np.fft.fft(sr_ts)\n",
    "amp = np.abs(fft)\n",
    "log_amp = np.log(amp)\n",
    "phase = np.angle(fft)\n",
    "\n",
    "win_size = 600\n",
    "conv_amp = np.array([1/win_size for x in range(win_size)])\n",
    "ma_log_amp = np.convolve(log_amp, conv_amp, 'same')\n",
    "\n",
    "res_amp = log_amp - ma_log_amp\n",
    "sr = np.abs(np.fft.ifft(np.exp(res_amp + 1j * phase)))\n",
    "\n",
    "plt.plot(df.index,sr,label = 'spectral redisual')\n",
    "\n",
    "# m = pd.Series(val.ravel()).fillna(0).mean()\n",
    "# s = pd.Series(val.ravel()).fillna(0).std()\n",
    "# print(m,s)\n",
    "\n",
    "# plt.hlines(m-3*s, df.index[0], df.index[-1], colors='r', linestyles='--')\n",
    "# # plt.hlines(df.index,[ for x in range(len(val))],'--',label='3 sigma')\n",
    "\n",
    "plt.legend()"
   ]
  },
  {
   "cell_type": "markdown",
   "metadata": {},
   "source": [
    " - this transformation / spike detection looks promising ,but would require more time to investigate\n"
   ]
  },
  {
   "cell_type": "markdown",
   "metadata": {},
   "source": [
    "#### Further plots:"
   ]
  },
  {
   "cell_type": "code",
   "execution_count": null,
   "metadata": {
    "execution": {
     "iopub.status.busy": "2021-06-12T21:58:10.247259Z",
     "iopub.status.idle": "2021-06-12T21:58:10.247607Z",
     "shell.execute_reply": "2021-06-12T21:58:10.247453Z"
    }
   },
   "outputs": [],
   "source": [
    "plt.figure(figsize = (10,8))\n",
    "\n",
    "sensor_name = 'sensor_49'\n",
    "val = StandardScaler().fit_transform(df[[sensor_name]].values)\n",
    "\n",
    "kernel = np.array([-1,1])\n",
    "val_diff = np.correlate(val.ravel(),kernel,mode='same')\n",
    "\n",
    "plt.plot(df.index,val,label = sensor_name)\n",
    "# plt.plot(df.index,val_diff,label = sensor_name + '_diff')\n",
    "\n",
    "idx = df[df.machine_status == 'BROKEN'].index\n",
    "for x in idx:\n",
    "    plt.axvline(x,ymax=12,linestyle='--',color='r')\n",
    "    \n",
    "plt.legend()\n"
   ]
  },
  {
   "cell_type": "code",
   "execution_count": null,
   "metadata": {
    "execution": {
     "iopub.status.busy": "2021-06-12T21:58:10.249021Z",
     "iopub.status.idle": "2021-06-12T21:58:10.249375Z",
     "shell.execute_reply": "2021-06-12T21:58:10.249188Z"
    }
   },
   "outputs": [],
   "source": [
    "df.iloc[:,:-1].mean(axis=1)"
   ]
  },
  {
   "cell_type": "code",
   "execution_count": null,
   "metadata": {
    "execution": {
     "iopub.status.busy": "2021-06-12T21:58:10.250596Z",
     "iopub.status.idle": "2021-06-12T21:58:10.250945Z",
     "shell.execute_reply": "2021-06-12T21:58:10.250758Z"
    }
   },
   "outputs": [],
   "source": [
    "plt.figure(figsize = (16,8))\n",
    "plt.plot(df.iloc[:,:-1].mean(axis=1))\n",
    "idx = df[df.machine_status == 'BROKEN'].index\n",
    "for x in idx:\n",
    "    plt.axvline(x,ymax=12,linestyle='--',color='r')"
   ]
  },
  {
   "cell_type": "markdown",
   "metadata": {},
   "source": [
    "# Simple Model"
   ]
  },
  {
   "cell_type": "markdown",
   "metadata": {},
   "source": [
    " - simple thresholding based on standard deviation of signal.\n",
    " - sensor #4 seems like an ideal candidate BROKEN status is nearly always followed by a 3*sigma swing in signal values.\n",
    " - split timeseries into 2 parts, train and test. Use train set to calculate standard deviation (sigma)\n",
    " - Locate crossings of the threshold (only do it when derivative is negative).\n",
    " - will generate many false positives, ie Model says it is broken, yet it is actually in recovery phase.\n",
    " - on the plus side few false negatives (hopefully)\n",
    "\n",
    "\n",
    " \n",
    "     "
   ]
  },
  {
   "cell_type": "markdown",
   "metadata": {},
   "source": [
    "## Train phase:"
   ]
  },
  {
   "cell_type": "code",
   "execution_count": null,
   "metadata": {
    "execution": {
     "iopub.status.busy": "2021-06-12T21:58:10.252307Z",
     "iopub.status.idle": "2021-06-12T21:58:10.252685Z",
     "shell.execute_reply": "2021-06-12T21:58:10.252532Z"
    }
   },
   "outputs": [],
   "source": [
    "def ThresholdCrossings(x):\n",
    "\n",
    "    ## Detect threshold crossings:\n",
    "    signal_sign_diff = np.diff(np.sign(signal_crossing))\n",
    "\n",
    "    #zero crossings, only checking for positive to negative\n",
    "    crossings = np.where(signal_sign_diff < 0,signal_sign_diff,0)\n",
    "    crossing_idx = crossings.nonzero()[0]\n",
    "\n",
    "    return crossing_idx\n",
    "\n",
    "def filter_signal(sensor_data):\n",
    "        \n",
    "    fft_data = np.fft.rfft(sensor_data)#,norm='ortho')\n",
    "    freqs = np.fft.rfftfreq(len(sensor_data))\n",
    "    spectrum = np.abs(fft_data)\n",
    "\n",
    "    filt_index = np.argmax(fft_data) + 200\n",
    "    filtered_fft = fft_data[:]\n",
    "    filtered_fft[filt_index:] = 0\n",
    "    filt_signal = np.fft.irfft(filtered_fft)\n",
    "    \n",
    "    return filt_signal"
   ]
  },
  {
   "cell_type": "code",
   "execution_count": null,
   "metadata": {
    "execution": {
     "iopub.status.busy": "2021-06-12T21:58:10.253502Z",
     "iopub.status.idle": "2021-06-12T21:58:10.253813Z",
     "shell.execute_reply": "2021-06-12T21:58:10.253680Z"
    }
   },
   "outputs": [],
   "source": [
    "## Split train / test\n",
    "split_idx = df.shape[0] // 2 \n",
    "\n",
    "sensor_name = 'sensor_04'\n",
    "signal = StandardScaler().fit_transform(df[[sensor_name]].values)\n",
    "signal = pd.Series(signal.ravel()).fillna(0)\n",
    "\n",
    "plt.figure(figsize=(10,8))\n",
    "\n",
    "plt.plot(df.index[:split_idx],signal.iloc[:split_idx],label = sensor_name)\n",
    "\n",
    "## Plot threshold\n",
    "sigma_train = signal.std()\n",
    "plt.hlines(-3*sigma_train, df.iloc[:split_idx].index[0], df.iloc[:split_idx].index[-1], colors='r', linestyles='--',label = 'threshhold')\n",
    "\n",
    "\n",
    "## Detect threshold crossings:\n",
    "signal_crossing = signal.iloc[:split_idx] + 3*sigma_train \n",
    "crossing_idx = ThresholdCrossings(signal_crossing)\n",
    "\n",
    "## Plot predictions\n",
    "for c in crossing_idx:\n",
    "    plt.axvline(df.index[c],ymax=12,linestyle='--',color='g')\n",
    "plt.plot([],[],linestyle='--',color='g',label = 'predicted locations')\n",
    "\n",
    "### Plot ground truth\n",
    "idx = df[df.machine_status == 'BROKEN'].index\n",
    "for x in idx[:-3]:\n",
    "    plt.axvline(x,ymax=12,linestyle='--',color='magenta')\n",
    "#dummy plot()\n",
    "plt.plot([],[],linestyle='--',color='magenta',label = 'groundtruth')\n",
    "\n",
    "plt.legend()\n"
   ]
  },
  {
   "cell_type": "markdown",
   "metadata": {},
   "source": [
    "### filtered version:"
   ]
  },
  {
   "cell_type": "code",
   "execution_count": null,
   "metadata": {
    "execution": {
     "iopub.status.busy": "2021-06-12T21:58:10.254675Z",
     "iopub.status.idle": "2021-06-12T21:58:10.255034Z",
     "shell.execute_reply": "2021-06-12T21:58:10.254863Z"
    }
   },
   "outputs": [],
   "source": [
    "## Split train / test\n",
    "split_idx = df.shape[0] // 2 \n",
    "\n",
    "sensor_name = 'sensor_04'\n",
    "signal = df[sensor_name].copy().fillna(0)\n",
    "signal -= signal.mean()\n",
    "signal = filter_signal(signal)\n",
    "signal = StandardScaler().fit_transform(signal.reshape(-1,1))\n",
    "signal = pd.Series(signal.ravel()).fillna(0)\n",
    "\n",
    "plt.figure(figsize=(10,8))\n",
    "\n",
    "plt.plot(df.index[:split_idx],signal.iloc[:split_idx],label = sensor_name)\n",
    "\n",
    "## Plot threshold\n",
    "sigma_train = signal.std()\n",
    "threshold_factor = 1\n",
    "plt.hlines(-threshold_factor*sigma_train, df.iloc[:split_idx].index[0], df.iloc[:split_idx].index[-1], colors='r', linestyles='--',label = 'threshhold')\n",
    "\n",
    "\n",
    "## Detect threshold crossings:\n",
    "signal_crossing = signal.iloc[:split_idx] + threshold_factor*sigma_train \n",
    "crossing_idx = ThresholdCrossings(signal_crossing)\n",
    "\n",
    "## Plot predictions\n",
    "for c in crossing_idx:\n",
    "    plt.axvline(df.index[c],ymax=12,linestyle='--',color='g')\n",
    "plt.plot([],[],linestyle='--',color='g',label = 'predicted locations')\n",
    "\n",
    "### Plot ground truth\n",
    "idx = df[df.machine_status == 'BROKEN'].index\n",
    "for x in idx[:-3]:\n",
    "    plt.axvline(x,ymax=12,linestyle='--',color='magenta')\n",
    "#dummy plot()\n",
    "plt.plot([],[],linestyle='--',color='magenta',label = 'groundtruth')\n",
    "\n",
    "plt.legend()\n"
   ]
  },
  {
   "cell_type": "markdown",
   "metadata": {},
   "source": [
    "## Test Phase:"
   ]
  },
  {
   "cell_type": "code",
   "execution_count": null,
   "metadata": {
    "execution": {
     "iopub.status.busy": "2021-06-12T21:58:10.256567Z",
     "iopub.status.idle": "2021-06-12T21:58:10.256910Z",
     "shell.execute_reply": "2021-06-12T21:58:10.256732Z"
    }
   },
   "outputs": [],
   "source": [
    "plt.figure(figsize=(10,8))\n",
    "\n",
    "plt.plot(df.index[split_idx:],signal.iloc[split_idx:],label = sensor_name)\n",
    "\n",
    "## Plot threshold\n",
    "plt.hlines(-threshold_factor*sigma_train, df.iloc[split_idx:].index[0], df.iloc[split_idx:].index[-1], colors='r', linestyles='--',label = 'threshhold')\n",
    "\n",
    "## Detect threshold crossings:\n",
    "signal_crossing = signal.iloc[split_idx:] + threshold_factor*sigma_train \n",
    "crossing_idx = ThresholdCrossings(signal_crossing)\n",
    "\n",
    "## Plot predictions\n",
    "for c in crossing_idx:\n",
    "    plt.axvline(df.iloc[split_idx:].index[c],ymax=12,linestyle='--',color='g')\n",
    "plt.plot([],[],linestyle='--',color='g',label = 'predicted locations')\n",
    "\n",
    "### Plot ground truth\n",
    "idx = df[df.machine_status == 'BROKEN'].index\n",
    "for x in idx[4:]:\n",
    "    plt.axvline(x,ymax=12,linestyle='--',color='magenta')\n",
    "#dummy plot()\n",
    "plt.plot([],[],linestyle='--',color='magenta',label = 'groundtruth')\n",
    "\n",
    "plt.legend()\n"
   ]
  },
  {
   "cell_type": "markdown",
   "metadata": {},
   "source": [
    "## TODO:"
   ]
  },
  {
   "cell_type": "markdown",
   "metadata": {},
   "source": [
    "    - quantify predictions \"accuracy\"\n",
    "    - Something similar to F1? Or Recall (minimize false negatives)\n",
    "    - improve threshold? dynamic thresholding by incorporating more sensor data?"
   ]
  },
  {
   "cell_type": "markdown",
   "metadata": {},
   "source": [
    "# Further ideas:"
   ]
  },
  {
   "cell_type": "markdown",
   "metadata": {},
   "source": [
    " - Filter signals\n",
    " - Use more of the sensors' data\n",
    " - Broken status seems to coincide with swings in signal values in many of the sensors. Use this for feature generation and then somhow try and aggregate them together.\n"
   ]
  },
  {
   "cell_type": "markdown",
   "metadata": {},
   "source": [
    "## Some questions:"
   ]
  },
  {
   "cell_type": "markdown",
   "metadata": {},
   "source": [
    " - How accurate in time do the predictions need to be? is it okay to be 5/15/30 minutes late? "
   ]
  },
  {
   "cell_type": "markdown",
   "metadata": {},
   "source": [
    "# Hidden Markov Model:"
   ]
  },
  {
   "cell_type": "code",
   "execution_count": null,
   "metadata": {
    "execution": {
     "iopub.status.busy": "2021-06-12T21:58:10.258056Z",
     "iopub.status.idle": "2021-06-12T21:58:10.258410Z",
     "shell.execute_reply": "2021-06-12T21:58:10.258225Z"
    }
   },
   "outputs": [],
   "source": [
    "sensor_name = 'sensor_04'\n",
    "signal = df[[sensor_name]].copy().fillna(0)#.rolling(3).mean().ffill().bfill()\n",
    "signal = signal.values\n",
    "\n",
    "model = hmm.GaussianHMM(n_components=2, n_iter=1000,random_state=31415,tol=1e-6)\n",
    "model.fit(signal)\n",
    "\n",
    "\n",
    "le = LabelEncoder()\n",
    "labels = df.machine_status.copy()\n",
    "labels = np.where(labels == 'RECOVERING' ,'BROKEN',labels)\n",
    "labels = le.fit_transform(labels)\n",
    "print(le.classes_)\n",
    "print(np.unique(labels,return_counts=True))\n",
    "\n",
    "eps = 1e-300\n",
    "# model.transmat_ = np.array([[1-eps ,eps ,eps],[eps,1-eps,eps],[eps,eps,1-eps]])\n",
    "model.transmat_ = np.array([[1-eps ,eps ],[eps,1-eps]])\n",
    "logprob,states = model.decode(signal)\n",
    "print('unique values: ',np.unique(states,return_counts=True))\n",
    "\n",
    "\n",
    "#scaling for plotting:\n",
    "scaled_signal = MinMaxScaler().fit_transform(signal.reshape(-1,1))\n",
    "scaled_labels = MinMaxScaler().fit_transform(labels.reshape(-1,1))\n",
    "scaled_states = MinMaxScaler().fit_transform(states.reshape(-1,1))\n",
    "\n",
    "fig,ax = plt.subplots(1,1,figsize = (13,5))\n",
    "ax.plot(scaled_signal,label = 'signal')\n",
    "ax.plot(scaled_labels,'r-', alpha=0.6, label = 'labels')\n",
    "ax.plot(scaled_states,'--', alpha=0.6, label = 'hidden states')\n",
    "ax.legend()\n",
    "fig.show()"
   ]
  },
  {
   "cell_type": "markdown",
   "metadata": {},
   "source": [
    "# Misc"
   ]
  },
  {
   "cell_type": "code",
   "execution_count": null,
   "metadata": {
    "execution": {
     "iopub.status.busy": "2021-06-12T21:58:10.259709Z",
     "iopub.status.idle": "2021-06-12T21:58:10.260104Z",
     "shell.execute_reply": "2021-06-12T21:58:10.259892Z"
    }
   },
   "outputs": [],
   "source": [
    "## TEsting zero crossing detection:\n",
    "\n",
    "a = [1, 2, 1, 1, -3, -4, 7, 8, 9, 10, -2, 1, -3, 5, 6, 7, -10]\n",
    "\n",
    "a_sign_diff = np.diff(np.sign(a))\n",
    "#zero crossings, only checking for positive to negative\n",
    "crossings = np.where(a_sign_diff < 0,a_sign_diff,0)\n",
    "crossing_idx = crossings.nonzero()\n",
    "\n",
    "print('sign:', np.sign(a))\n",
    "print('sign diff:', np.diff(np.sign(a)))\n",
    "print('crossings:', crossings,)\n",
    "\n",
    "print('where', np.where(np.diff(np.sign(a))))\n",
    "print('crossover indices', crossing_idx ) \n",
    "\n",
    "\n",
    "# zero_crossings = numpy.where(numpy.diff(numpy.sign(a)))[0]\n"
   ]
  },
  {
   "cell_type": "code",
   "execution_count": null,
   "metadata": {},
   "outputs": [],
   "source": []
  }
 ],
 "metadata": {
  "kernelspec": {
   "display_name": "Python 3",
   "language": "python",
   "name": "python3"
  },
  "language_info": {
   "codemirror_mode": {
    "name": "ipython",
    "version": 3
   },
   "file_extension": ".py",
   "mimetype": "text/x-python",
   "name": "python",
   "nbconvert_exporter": "python",
   "pygments_lexer": "ipython3",
   "version": "3.9.4"
  },
  "toc-autonumbering": true
 },
 "nbformat": 4,
 "nbformat_minor": 4
}
